{
 "cells": [
  {
   "cell_type": "code",
   "execution_count": 19,
   "id": "4717f24c-79cf-4c82-8a6a-9a14da1682bb",
   "metadata": {},
   "outputs": [],
   "source": [
    "import pandas as pd"
   ]
  },
  {
   "cell_type": "code",
   "execution_count": 28,
   "id": "23ccf346-3bff-4c59-adef-ae54a444f795",
   "metadata": {},
   "outputs": [],
   "source": [
    "columns_to_import = [\"Case Type\",\"Region\",\"Case Number\",\"Case Name\",\"Status\",\"Date Filed\",\"Date Closed\",\"Reason Closed\"\n",
    "                     ,\"City\",\"States & Territories\",\"Employees on charge/petition\",\"Allegations\",\"Participants\",\"Union\",\n",
    "                     \"Unit Sought\",\"Voters\"]\n",
    "column_dtypes = {c:\"string\" for c in columns_to_import}"
   ]
  },
  {
   "cell_type": "code",
   "execution_count": 29,
   "id": "96c827f6-8979-43e5-b910-5012ffd82ce1",
   "metadata": {},
   "outputs": [],
   "source": [
    "df1 = pd.read_csv(\"1978-1999.csv\", usecols = columns_to_import, dtype = column_dtypes, parse_dates = [\"Date Filed\", \"Date Closed\"])\n",
    "df2 = pd.read_csv(\"2000-2004.csv\", usecols = columns_to_import, dtype = column_dtypes, parse_dates = [\"Date Filed\", \"Date Closed\"])\n",
    "df3 = pd.read_csv(\"2005-2009.csv\", usecols = columns_to_import, dtype = column_dtypes, parse_dates = [\"Date Filed\", \"Date Closed\"])\n",
    "df4 = pd.read_csv(\"2015-2019.csv\", usecols = columns_to_import, dtype = column_dtypes, parse_dates = [\"Date Filed\", \"Date Closed\"])"
   ]
  },
  {
   "cell_type": "code",
   "execution_count": 33,
   "id": "fac5ea1c-27b9-4299-9ecb-b0150a52e8c5",
   "metadata": {},
   "outputs": [
    {
     "data": {
      "text/plain": [
       "0   1999-12-30\n",
       "1   1999-12-30\n",
       "2   1999-12-30\n",
       "3   1999-12-30\n",
       "4   1999-12-30\n",
       "Name: Date Filed, dtype: datetime64[ns]"
      ]
     },
     "execution_count": 33,
     "metadata": {},
     "output_type": "execute_result"
    }
   ],
   "source": []
  },
  {
   "cell_type": "code",
   "execution_count": 10,
   "id": "deb78bf0-af84-4cb2-90d7-b6088f652a08",
   "metadata": {},
   "outputs": [
    {
     "data": {
      "text/plain": [
       "97453    01/02/2015\n",
       "97454    01/02/2015\n",
       "97455    01/02/2015\n",
       "97456    01/02/2015\n",
       "97457    01/02/2015\n",
       "Name: Date Filed, dtype: object"
      ]
     },
     "execution_count": 10,
     "metadata": {},
     "output_type": "execute_result"
    }
   ],
   "source": [
    "df4[\"Date Filed\"].tail()"
   ]
  },
  {
   "cell_type": "code",
   "execution_count": null,
   "id": "ec4cc063-1cd9-419f-b063-eeb7161b492e",
   "metadata": {},
   "outputs": [],
   "source": []
  }
 ],
 "metadata": {
  "kernelspec": {
   "display_name": "Python 3 (ipykernel)",
   "language": "python",
   "name": "python3"
  },
  "language_info": {
   "codemirror_mode": {
    "name": "ipython",
    "version": 3
   },
   "file_extension": ".py",
   "mimetype": "text/x-python",
   "name": "python",
   "nbconvert_exporter": "python",
   "pygments_lexer": "ipython3",
   "version": "3.11.4"
  }
 },
 "nbformat": 4,
 "nbformat_minor": 5
}

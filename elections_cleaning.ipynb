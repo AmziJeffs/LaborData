{
 "cells": [
  {
   "cell_type": "code",
   "execution_count": 1,
   "id": "4fce9d9c-2057-444f-a40f-0bec85d229dc",
   "metadata": {},
   "outputs": [],
   "source": [
    "import numpy as np\n",
    "import pandas as pd\n",
    "import matplotlib.pyplot as plt\n",
    "\n",
    "pd.set_option('display.max_rows', 1000)"
   ]
  },
  {
   "cell_type": "code",
   "execution_count": 2,
   "id": "b368528e-1894-4d82-8f4f-bb4b6e4c4a1f",
   "metadata": {},
   "outputs": [],
   "source": [
    "elections1990_99 = pd.read_csv(\"Data/Elections/1990-99.csv\", parse_dates = [\"Date Filed\", \"Date Closed\"])\n",
    "elections2000_09 = pd.read_csv(\"Data/Elections/2000-09.csv\", parse_dates = [\"Date Filed\", \"Date Closed\"])\n",
    "elections2010_14 = pd.read_csv(\"Data/Elections/2010-14.csv\", parse_dates = [\"Date Filed\", \"Date Closed\"])\n",
    "elections2015_19 = pd.read_csv(\"Data/Elections/2015-19.csv\", parse_dates = [\"Date Filed\", \"Date Closed\"])\n",
    "elections2020_24 = pd.read_csv(\"Data/Elections/2020-24.csv\", parse_dates = [\"Date Filed\", \"Date Closed\"])"
   ]
  },
  {
   "cell_type": "code",
   "execution_count": 3,
   "id": "1a37b114-c571-421b-acc3-b05807cd6f64",
   "metadata": {},
   "outputs": [],
   "source": [
    "elections = pd.concat([elections1990_99, elections2000_09, elections2010_14, elections2015_19, elections2020_24], \n",
    "                      ignore_index = True)"
   ]
  },
  {
   "cell_type": "code",
   "execution_count": 4,
   "id": "3453a8a5-1b4f-4ebd-8eb0-37dc495aa0ff",
   "metadata": {},
   "outputs": [
    {
     "name": "stdout",
     "output_type": "stream",
     "text": [
      "<class 'pandas.core.frame.DataFrame'>\n",
      "RangeIndex: 31905 entries, 0 to 31904\n",
      "Data columns (total 31 columns):\n",
      " #   Column                        Non-Null Count  Dtype         \n",
      "---  ------                        --------------  -----         \n",
      " 0   Region                        31905 non-null  object        \n",
      " 1   Case Number                   31905 non-null  object        \n",
      " 2   Case Name                     31905 non-null  object        \n",
      " 3   Status                        31905 non-null  object        \n",
      " 4   Date Filed                    31905 non-null  datetime64[ns]\n",
      " 5   Date Closed                   31485 non-null  datetime64[ns]\n",
      " 6   Reason Closed                 31483 non-null  object        \n",
      " 7   City                          31904 non-null  object        \n",
      " 8   States & Territories          31905 non-null  object        \n",
      " 9   Unit ID                       31905 non-null  object        \n",
      " 10  Ballot Type                   31905 non-null  object        \n",
      " 11  Tally Type                    31904 non-null  object        \n",
      " 12  Tally Date                    31905 non-null  object        \n",
      " 13  No of Eligible Voters         31836 non-null  float64       \n",
      " 14  Void Ballots                  5289 non-null   float64       \n",
      " 15  Labor Union1                  31823 non-null  object        \n",
      " 16  Votes for Labor Union1        30635 non-null  float64       \n",
      " 17  Labor Union2                  1726 non-null   object        \n",
      " 18  Votes for Labor Union2        935 non-null    float64       \n",
      " 19  Labor Union3                  128 non-null    object        \n",
      " 20  Votes for Labor Union3        80 non-null     float64       \n",
      " 21  Votes Against                 25645 non-null  float64       \n",
      " 22  Total Ballots Counted         31076 non-null  float64       \n",
      " 23  Runoff Required               9217 non-null   object        \n",
      " 24  Challenged Ballots            12088 non-null  float64       \n",
      " 25  Challenges are Determinative  10487 non-null  object        \n",
      " 26  Union to Certify              21029 non-null  object        \n",
      " 27  Voting Unit (Unit A)          30873 non-null  object        \n",
      " 28  Voting Unit (Unit B)          969 non-null    object        \n",
      " 29  Voting Unit (Unit C)          781 non-null    object        \n",
      " 30  Voting Unit (Unit D)          646 non-null    object        \n",
      "dtypes: datetime64[ns](2), float64(8), object(21)\n",
      "memory usage: 7.5+ MB\n"
     ]
    }
   ],
   "source": [
    "elections.info()"
   ]
  },
  {
   "cell_type": "code",
   "execution_count": 5,
   "id": "b8da5e0c-726b-4c27-a336-c67800bac164",
   "metadata": {},
   "outputs": [
    {
     "data": {
      "text/plain": [
       "Tally Type\n",
       "Initial    30857\n",
       "Rerun        962\n",
       "Run-off       85\n",
       "Name: count, dtype: int64"
      ]
     },
     "execution_count": 5,
     "metadata": {},
     "output_type": "execute_result"
    }
   ],
   "source": [
    "elections['Tally Type'].value_counts()"
   ]
  },
  {
   "cell_type": "code",
   "execution_count": 6,
   "id": "13119327-179c-4453-99cc-aa605c8a8eda",
   "metadata": {},
   "outputs": [
    {
     "data": {
      "text/plain": [
       "Ballot Type\n",
       "Single Labor Organization    29285\n",
       "Two Labor Organizations       1573\n",
       "Revised Single Labor Org       580\n",
       "UD                             315\n",
       "Three Labor Organizations      118\n",
       "Revised Two Labor Orgs          34\n",
       "Name: count, dtype: int64"
      ]
     },
     "execution_count": 6,
     "metadata": {},
     "output_type": "execute_result"
    }
   ],
   "source": [
    "elections['Ballot Type'].value_counts()"
   ]
  },
  {
   "cell_type": "code",
   "execution_count": 7,
   "id": "d2b07346-1a9a-4b97-9e16-21cb19cfc49e",
   "metadata": {},
   "outputs": [
    {
     "data": {
      "text/html": [
       "<div>\n",
       "<style scoped>\n",
       "    .dataframe tbody tr th:only-of-type {\n",
       "        vertical-align: middle;\n",
       "    }\n",
       "\n",
       "    .dataframe tbody tr th {\n",
       "        vertical-align: top;\n",
       "    }\n",
       "\n",
       "    .dataframe thead th {\n",
       "        text-align: right;\n",
       "    }\n",
       "</style>\n",
       "<table border=\"1\" class=\"dataframe\">\n",
       "  <thead>\n",
       "    <tr style=\"text-align: right;\">\n",
       "      <th></th>\n",
       "      <th>Region</th>\n",
       "      <th>Case Number</th>\n",
       "      <th>Case Name</th>\n",
       "      <th>Status</th>\n",
       "      <th>Date Filed</th>\n",
       "      <th>Date Closed</th>\n",
       "      <th>Reason Closed</th>\n",
       "      <th>City</th>\n",
       "      <th>States &amp; Territories</th>\n",
       "      <th>Unit ID</th>\n",
       "      <th>...</th>\n",
       "      <th>Votes Against</th>\n",
       "      <th>Total Ballots Counted</th>\n",
       "      <th>Runoff Required</th>\n",
       "      <th>Challenged Ballots</th>\n",
       "      <th>Challenges are Determinative</th>\n",
       "      <th>Union to Certify</th>\n",
       "      <th>Voting Unit (Unit A)</th>\n",
       "      <th>Voting Unit (Unit B)</th>\n",
       "      <th>Voting Unit (Unit C)</th>\n",
       "      <th>Voting Unit (Unit D)</th>\n",
       "    </tr>\n",
       "  </thead>\n",
       "  <tbody>\n",
       "    <tr>\n",
       "      <th>26546</th>\n",
       "      <td>Region 13, Chicago, Illinois</td>\n",
       "      <td>13-RC-320303</td>\n",
       "      <td>Starbucks Corporation</td>\n",
       "      <td>Closed</td>\n",
       "      <td>2023-06-20</td>\n",
       "      <td>2023-08-15</td>\n",
       "      <td>Certific. of Representative</td>\n",
       "      <td>NaN</td>\n",
       "      <td>IL</td>\n",
       "      <td>A</td>\n",
       "      <td>...</td>\n",
       "      <td>3.0</td>\n",
       "      <td>16.0</td>\n",
       "      <td>NaN</td>\n",
       "      <td>NaN</td>\n",
       "      <td>NaN</td>\n",
       "      <td>Chicago and Midwest Regional Joint Board, Work...</td>\n",
       "      <td>Included: All full-time and regular part-time ...</td>\n",
       "      <td>NaN</td>\n",
       "      <td>NaN</td>\n",
       "      <td>NaN</td>\n",
       "    </tr>\n",
       "  </tbody>\n",
       "</table>\n",
       "<p>1 rows × 31 columns</p>\n",
       "</div>"
      ],
      "text/plain": [
       "                             Region   Case Number              Case Name  \\\n",
       "26546  Region 13, Chicago, Illinois  13-RC-320303  Starbucks Corporation   \n",
       "\n",
       "       Status Date Filed Date Closed                Reason Closed City  \\\n",
       "26546  Closed 2023-06-20  2023-08-15  Certific. of Representative  NaN   \n",
       "\n",
       "      States & Territories Unit ID  ... Votes Against Total Ballots Counted  \\\n",
       "26546                   IL       A  ...           3.0                  16.0   \n",
       "\n",
       "      Runoff Required  Challenged Ballots  Challenges are Determinative  \\\n",
       "26546             NaN                 NaN                           NaN   \n",
       "\n",
       "                                        Union to Certify  \\\n",
       "26546  Chicago and Midwest Regional Joint Board, Work...   \n",
       "\n",
       "                                    Voting Unit (Unit A) Voting Unit (Unit B)  \\\n",
       "26546  Included: All full-time and regular part-time ...                  NaN   \n",
       "\n",
       "       Voting Unit (Unit C) Voting Unit (Unit D)  \n",
       "26546                   NaN                  NaN  \n",
       "\n",
       "[1 rows x 31 columns]"
      ]
     },
     "execution_count": 7,
     "metadata": {},
     "output_type": "execute_result"
    }
   ],
   "source": [
    "# Should be Chicago\n",
    "elections[elections[\"City\"].isna()]"
   ]
  },
  {
   "cell_type": "code",
   "execution_count": 8,
   "id": "3579092b-c0b4-4a54-a16d-219c6e93db6b",
   "metadata": {},
   "outputs": [],
   "source": [
    "elections.loc[25547, 'City'] = 'Chicago'"
   ]
  },
  {
   "cell_type": "code",
   "execution_count": 10,
   "id": "dfa12013-a391-4ad0-98a5-71ce29582f2b",
   "metadata": {},
   "outputs": [
    {
     "data": {
      "text/plain": [
       "Petition Type\n",
       "RC    27127\n",
       "RD     3826\n",
       "RM      587\n",
       "UD      363\n",
       "UC        2\n",
       "Name: count, dtype: int64"
      ]
     },
     "execution_count": 10,
     "metadata": {},
     "output_type": "execute_result"
    }
   ],
   "source": [
    "# RC = Representation election\n",
    "# RD = Decertification, workers filed\n",
    "# RM = Decertification, empoloyer filed (or, employer wants election, but surely that's never how it's used?)\n",
    "# UD = Get rid of closed shop, workers filed\n",
    "# UC = Unit clarification \n",
    "elections['Petition Type'] = elections[\"Case Number\"].apply(lambda x: x.split(\"-\")[1])\n",
    "elections['Petition Type'].value_counts()"
   ]
  },
  {
   "cell_type": "code",
   "execution_count": 11,
   "id": "8f52f94e-d969-4774-8b35-7e3b362d2a01",
   "metadata": {},
   "outputs": [],
   "source": [
    "# Parse union names - Will be imperfect due to typos etc, but gives a broad sense of things\n",
    "def get_union(union_name):\n",
    "    union_name = union_name.lower()\n",
    "    union_name = union_name.replace(\"&\", \"and\")\n",
    "    union_name = union_name.replace(\".\", \"\")\n",
    "    union_name = union_name.replace(\"*\", \"\")\n",
    "    union_name = union_name.replace(\",\", \"\")\n",
    "    union_name = union_name.replace(\"'\", \"\")\n",
    "    union_name = union_name.replace(\"-\", \" \")\n",
    "    union_name = union_name.replace(\"/\", \" \")\n",
    "    union_name = union_name.replace(\"intl\", \"international\")\n",
    "    union_name = union_name.replace(\"ó\", \"o\")\n",
    "    union_name = union_name.replace(\"  \", \" \")\n",
    "    union_name = union_name.replace(\"  \", \" \")\n",
    "    union_name = union_name.replace(\"  \", \" \")\n",
    "    union_name = union_name.replace(\"  \", \" \")\n",
    "    if \"ibew\" in union_name or (\"international brotherhood\" in union_name and \"electrical\" in union_name) or \"electrical worker\" in union_name:\n",
    "        union_name = \"IBEW\"\n",
    "    if \"seiu\" in union_name or (\"service employee\" in union_name and \"international union\" in union_name) or \"services employees international union\" in union_name:\n",
    "        union_name = \"SEIU\"\n",
    "    if \"cwa\" in union_name or \"communications workers of america\" in union_name or \"communication workers of america\" in union_name or \"commnications workers of america\" in union_name:\n",
    "        union_name = \"CWA\"\n",
    "    if \"ufcw\" in union_name or \"ucfw\" in union_name or (\"united food\" in union_name and \"commer\" in union_name) or \"united food and commerical\" in union_name:\n",
    "        union_name = \"UFCW\"\n",
    "    if union_name[:3] == \"iam\" or \"iamaw\" in union_name or (\"international association\" in union_name and \"machinists\" in union_name) or \"international association of machinists & aerospace workers\" in union_name:\n",
    "        union_name = \"IAM\"\n",
    "    if \"iuoe\" in union_name or \"i u o e\" in union_name or (\"international union\" and \"operating engineers\" in union_name):\n",
    "        union_name = \"IUOE\"\n",
    "    if \"nuhw\" in union_name or \"national union of healthcare workers\" in union_name:\n",
    "        union_name = \"NUHW\"\n",
    "    if \"spfpa\" in union_name or \"international union security police and fire professionals of america\" in union_name:\n",
    "        union_name = \"SPFPA\"\n",
    "    if \"uaw\" in union_name or (\"united auto\" in union_name and \"workers\" in union_name):\n",
    "        union_name = \"UAW\"\n",
    "    if \"teamster\" in union_name or \"ibt\" in union_name or \"teamter\" in union_name:\n",
    "        union_name = \"TEAMSTERS\"\n",
    "    if \"usw\" == union_name[:3] or \"steel\" in union_name:\n",
    "        union_name = \"USW\"\n",
    "    if \"ilwu\" in union_name or \"international longshore and warehouse union\" in union_name:\n",
    "        union_name = \"ILWU\"\n",
    "    if \"(ue)\" in union_name or \"united electrical radio\" in union_name:\n",
    "        union_name = \"UE\"\n",
    "    if \"unite here\" in union_name or \"unitehere\" in union_name:\n",
    "        union_name = \"UNITE HERE\"\n",
    "    if \"steamfitter\" in union_name:\n",
    "        union_name = \"STEAMFITTERS\"\n",
    "    if \"opeiu\" in union_name or (\"office\" in union_name and \"professional employees international\" in union_name):\n",
    "        union_name = \"OPEIU\"\n",
    "    if \"amalgamated transit\" in union_name:\n",
    "        union_name = \"ATU\"\n",
    "    if  \"iatse\" in union_name or ((\"international alliance\" in union_name or \"international assoc\" in union_name) and \"theatrical\" in union_name):\n",
    "        union_name = \"IATSE\"\n",
    "    if \"afscme\" in union_name or (\"american federation\" in union_name and \"state county\" in union_name and \"municipal employee\" in union_name) or \"american federation of state county and municipal empoyees\" in union_name:\n",
    "        union_name = \"AFSCME\"\n",
    "    if \"rwdsu\" in union_name or (\"retail\" in union_name and \"wholesale\" in union_name and \"department store\" in union_name):\n",
    "        union_name = \"RWDSU\"\n",
    "    if \"nurse\" in union_name or \"nursing\" in union_name or \" nnu\" in union_name:\n",
    "        union_name = \"NURSE UNION\"\n",
    "    if \"police\" in union_name or \"patrolmen\" in union_name or \"public safety\" in union_name or \"law enforc\" in union_name:\n",
    "        union_name = \"POLICE UNION\"\n",
    "    if \"uscso\" in union_name or \"ugsoa\" in union_name or \"security\" in union_name or \"guard\" in union_name or \"officer\" in union_name or \"protective\" in union_name:\n",
    "        union_name = \"SECURITY UNION\"\n",
    "    if \"carpenter\" in union_name:\n",
    "        union_name = \"CARPENTER UNION\"\n",
    "    if \"iupat\" in union_name or \"painter\" in union_name:\n",
    "        union_name = \"IUPAT\"\n",
    "    if \"sag aftra\" in union_name or \"screen actors guild\" in union_name:\n",
    "        union_name = \"SAG-AFTRA\"\n",
    "    if \"apwu\" in union_name or \"american postal workers\" in union_name:\n",
    "        union_name = \"APWU\"\n",
    "    if \"upseu\" in union_name or (\"united professional\" in union_name and \"service employee\" in union_name):\n",
    "        union_name = \"UPSEU\"\n",
    "    if \"cgt\" in union_name or (\"central general\" in union_name and \"trabaja\" in union_name):\n",
    "        union_name = \"CGT\"\n",
    "    if \"ugt\" in union_name or (\"union general\" in union_name and \"trabaja\" in union_name):\n",
    "        union_name = \"UGT\"\n",
    "    if \"fct\" in union_name or (\"federacion central\" in union_name and \"traba\" in union_name):\n",
    "        union_name = \"FCT\"\n",
    "    if \"liuna\" in union_name or \"laborers international union\" in union_name:\n",
    "        union_name = \"LIUNA\"\n",
    "    if \"bricklayer\" in union_name:\n",
    "        union_name = \"BAC\"\n",
    "    if \"iww\" in union_name or (\"industrial worker\" in union_name and \"world\" in union_name):\n",
    "        union_name = \"IWW\"\n",
    "    if \"bctgm\" in union_name or \"bctmgm\" in union_name or (\"bakery\" in union_name and \"tobac\" in union_name):\n",
    "        union_name = \"BCTGM\"\n",
    "    if 'workers united' == union_name[:14] or 'worker united' == union_name[:13]:\n",
    "        union_name = \"WORKERS UNITED\"\n",
    "    if 'ibotu' in union_name or (\"international brotherhood\" in union_name and \"trade union\" in union_name):\n",
    "        union_name = \"IBOTU\"\n",
    "    if 'mine worker' in union_name:\n",
    "        union_name = \"UMWA\"\n",
    "    if \"writers guild\" in union_name:\n",
    "        union_name = \"WGA\"\n",
    "    if \"ufw\" in union_name or \"united farm work\" in union_name:\n",
    "        union_name = \"UFW\"\n",
    "    if \"heat\" in union_name and \"frost\" in union_name:\n",
    "        union_name = \"INSULATORS UNION\"\n",
    "    if \"iron worker\" in union_name or \"ironworker\" in union_name:\n",
    "        union_name = \"IRON WORKERS\"\n",
    "    if \"boilermaker\" in union_name:\n",
    "        union_name = \"BOILERMAKERS\"\n",
    "    if \"emts\" in union_name or \"ems\" in union_name.split() or \"emergency\" in union_name or \"paramedic\" in union_name or \"fire\" in union_name:\n",
    "        union_name = \"EMERGENCY SERVICES UNION\"\n",
    "    if \"teach\" in union_name or \"educat\" in union_name or \"school\" in union_name or \" aft \" in union_name or \"aft\" == union_name[:3] or \" nea \" in union_name or \"nea\" == union_name[:3]:\n",
    "        union_name = \"TEACHER UNION\"\n",
    "    if \"laborer\" in union_name:\n",
    "        union_name = \"LABORER UNION\"\n",
    "    if \"patco\" in union_name or \"natco\" in union_name or \"air traffic controller\" in union_name:\n",
    "        union_name = \"AIR TRAFFIC CONTROLLER UNION\"\n",
    "    if \"driver\" in union_name:\n",
    "        union_name = \"DRIVERS UNION\"\n",
    "    if \"atu\" == union_name[:3] or \"transit union\" in union_name or \"transport\" in union_name:\n",
    "        union_name = \"TRANSIT WORKERS UNION\"\n",
    "    if \"metal\" in union_name or \"smwia\" in union_name:\n",
    "        union_name = \"METAL WORKERS\"\n",
    "    if \"health\" in union_name or \"hospital\" in union_name:\n",
    "        union_name = \"HEALTHCARE UNION\"\n",
    "    if \"utility worker\" in union_name:\n",
    "        union_name = \"UTILITY WORKER UNION\"\n",
    "    if \"service worker\" in union_name or \"uswu\" in union_name:\n",
    "        union_name = \"SERVICE WORKER UNION\"\n",
    "    if \"sprinkler\" in union_name or \"plumb\" in union_name or \"pipe\" in union_name:\n",
    "        union_name = \"PIPEFITTERS/PLUMBERS/SPRINKLERFITTERS\"\n",
    "    if 'nan' == union_name or \"\" == \"\".join(union_name.split()):\n",
    "        union_name = \"OTHER\"\n",
    "    if '(alu)' in union_name or 'amazon' in union_name:\n",
    "        union_name = 'ALU'\n",
    "    if union_name.islower():\n",
    "        return \"OTHER\"\n",
    "    return union_name"
   ]
  },
  {
   "cell_type": "code",
   "execution_count": 12,
   "id": "5ab42039-1d67-43a3-bc01-40fc73345c9d",
   "metadata": {},
   "outputs": [],
   "source": [
    "union_name = elections['Labor Union1'].astype(str).apply(get_union)"
   ]
  },
  {
   "cell_type": "code",
   "execution_count": 13,
   "id": "8bbb353c-24c1-4315-83e7-b42d81b16715",
   "metadata": {},
   "outputs": [
    {
     "data": {
      "text/plain": [
       "Labor Union1\n",
       "TEAMSTERS                                6625\n",
       "SEIU                                     3526\n",
       "OTHER                                    2434\n",
       "UFCW                                     2177\n",
       "IUOE                                     1805\n",
       "IBEW                                     1802\n",
       "IAM                                      1787\n",
       "USW                                      1065\n",
       "SECURITY UNION                            882\n",
       "AFSCME                                    770\n",
       "CWA                                       704\n",
       "SPFPA                                     634\n",
       "UAW                                       591\n",
       "NURSE UNION                               548\n",
       "ATU                                       386\n",
       "POLICE UNION                              383\n",
       "TEACHER UNION                             378\n",
       "LIUNA                                     352\n",
       "UNITE HERE                                337\n",
       "TRANSIT WORKERS UNION                     318\n",
       "PIPEFITTERS/PLUMBERS/SPRINKLERFITTERS     312\n",
       "IATSE                                     305\n",
       "IUPAT                                     279\n",
       "OPEIU                                     268\n",
       "EMERGENCY SERVICES UNION                  224\n",
       "CARPENTER UNION                           220\n",
       "WORKERS UNITED                            214\n",
       "SERVICE WORKER UNION                      202\n",
       "DRIVERS UNION                             199\n",
       "LABORER UNION                             192\n",
       "BCTGM                                     192\n",
       "NUHW                                      188\n",
       "METAL WORKERS                             165\n",
       "ILWU                                      144\n",
       "HEALTHCARE UNION                          130\n",
       "IRON WORKERS                              122\n",
       "RWDSU                                     115\n",
       "UTILITY WORKER UNION                      106\n",
       "AIR TRAFFIC CONTROLLER UNION              103\n",
       "STEAMFITTERS                               93\n",
       "UE                                         88\n",
       "BOILERMAKERS                               80\n",
       "IBOTU                                      78\n",
       "INSULATORS UNION                           57\n",
       "BAC                                        53\n",
       "SAG-AFTRA                                  53\n",
       "UMWA                                       43\n",
       "CGT                                        41\n",
       "IWW                                        37\n",
       "UPSEU                                      35\n",
       "WGA                                        22\n",
       "APWU                                       18\n",
       "UGT                                        11\n",
       "FCT                                         7\n",
       "ALU                                         3\n",
       "UFW                                         2\n",
       "Name: count, dtype: int64"
      ]
     },
     "execution_count": 13,
     "metadata": {},
     "output_type": "execute_result"
    }
   ],
   "source": [
    "union_name.value_counts()"
   ]
  },
  {
   "cell_type": "code",
   "execution_count": 14,
   "id": "22eb9478-6b10-4ceb-a01c-928a64851714",
   "metadata": {},
   "outputs": [],
   "source": [
    "# Note that this is only for Labor Union1; other labor unions in the election are ignored. \n",
    "# This will cause problems for some entries (e.g. Case Number 32-RC-005775), but we will be\n",
    "# analyzing only those elections with a single labor union involved.\n",
    "elections['Union'] = union_name "
   ]
  },
  {
   "cell_type": "code",
   "execution_count": 15,
   "id": "c554bc4f-340b-4cab-8995-463a2c4eeb83",
   "metadata": {},
   "outputs": [
    {
     "name": "stdout",
     "output_type": "stream",
     "text": [
      "There are 230 elections where turnout is over 100%\n",
      "There are 7061 elections where turnout is exactly 100%\n"
     ]
    }
   ],
   "source": [
    "# Calculate turnout - Some of these are larger than 1, clearly wrong!\n",
    "turnout = elections[\"Total Ballots Counted\"]/elections[\"No of Eligible Voters\"]\n",
    "print(f\"There are {len(turnout[turnout > 1])} elections where turnout is over 100%\")\n",
    "print(f\"There are {len(turnout[turnout == 1])} elections where turnout is exactly 100%\")"
   ]
  },
  {
   "cell_type": "code",
   "execution_count": 16,
   "id": "066f73c5-8e6b-475a-8e9c-0d6cb07bc69f",
   "metadata": {},
   "outputs": [
    {
     "data": {
      "image/png": "[encoded data removed]",
      "text/plain": [
       "<Figure size 640x480 with 1 Axes>"
      ]
     },
     "metadata": {},
     "output_type": "display_data"
    }
   ],
   "source": [
    "# Histogram of turnouts less than 100%\n",
    "plt.hist(turnout[turnout < 1], bins = 100)\n",
    "plt.show()"
   ]
  },
  {
   "cell_type": "code",
   "execution_count": 17,
   "id": "7d2b3fc3-480e-4185-9383-b4de261dbfbc",
   "metadata": {},
   "outputs": [],
   "source": [
    "elections['Turnout'] = turnout"
   ]
  },
  {
   "cell_type": "code",
   "execution_count": 18,
   "id": "37a4385a-c637-4719-aa07-39c521e440e2",
   "metadata": {},
   "outputs": [],
   "source": [
    "# For some reason this case breaks into two rows when writing to CSV.\n",
    "# Can't figure it out, so I'm throwing it away. It's a small 2010 \n",
    "# election of Las Vegas security officers so not a big deal.\n",
    "elections = elections[elections[\"Case Number\"] != \"28-RC-006728\"]"
   ]
  },
  {
   "cell_type": "code",
   "execution_count": 19,
   "id": "f051df10-beeb-42ff-a5ad-fa2742b0fc21",
   "metadata": {},
   "outputs": [],
   "source": [
    "elections['Case Name'] = elections['Case Name'].apply(str.title)"
   ]
  },
  {
   "cell_type": "code",
   "execution_count": 20,
   "id": "a66b3ac1-a170-41bc-a57b-fa35109ae52f",
   "metadata": {},
   "outputs": [],
   "source": [
    "elections.to_csv(\"data/Elections/all_elections.csv\", index = False)"
   ]
  },
  {
   "cell_type": "code",
   "execution_count": null,
   "id": "a99c6394-c04a-4d86-be0e-18237d24b545",
   "metadata": {},
   "outputs": [],
   "source": []
  }
 ],
 "metadata": {
  "kernelspec": {
   "display_name": "Python 3 (ipykernel)",
   "language": "python",
   "name": "python3"
  },
  "language_info": {
   "codemirror_mode": {
    "name": "ipython",
    "version": 3
   },
   "file_extension": ".py",
   "mimetype": "text/x-python",
   "name": "python",
   "nbconvert_exporter": "python",
   "pygments_lexer": "ipython3",
   "version": "3.11.8"
  }
 },
 "nbformat": 4,
 "nbformat_minor": 5
}

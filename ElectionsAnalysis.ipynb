{
 "cells": [
  {
   "cell_type": "code",
   "execution_count": 30,
   "id": "95bb549c-e500-4ab8-ae4b-b57763b6441a",
   "metadata": {},
   "outputs": [],
   "source": [
    "import numpy as np\n",
    "import pandas as pd\n",
    "import matplotlib.pyplot as plt\n",
    "\n",
    "pd.set_option('display.max_rows', 1000)"
   ]
  },
  {
   "cell_type": "code",
   "execution_count": 40,
   "id": "a4c57394-79a6-4508-8efb-841653f1a3f1",
   "metadata": {},
   "outputs": [
    {
     "name": "stdout",
     "output_type": "stream",
     "text": [
      "<class 'pandas.core.frame.DataFrame'>\n",
      "RangeIndex: 30907 entries, 0 to 30906\n",
      "Data columns (total 34 columns):\n",
      " #   Column                        Non-Null Count  Dtype         \n",
      "---  ------                        --------------  -----         \n",
      " 0   Region                        30907 non-null  object        \n",
      " 1   Case Number                   30907 non-null  object        \n",
      " 2   Case Name                     30907 non-null  object        \n",
      " 3   Status                        30907 non-null  object        \n",
      " 4   Date Filed                    30907 non-null  datetime64[ns]\n",
      " 5   Date Closed                   30498 non-null  datetime64[ns]\n",
      " 6   Reason Closed                 30497 non-null  object        \n",
      " 7   City                          30907 non-null  object        \n",
      " 8   States & Territories          30907 non-null  object        \n",
      " 9   Unit ID                       30907 non-null  object        \n",
      " 10  Ballot Type                   30907 non-null  object        \n",
      " 11  Tally Type                    30906 non-null  object        \n",
      " 12  Tally Date                    30907 non-null  object        \n",
      " 13  No of Eligible Voters         30849 non-null  float64       \n",
      " 14  Void Ballots                  5150 non-null   float64       \n",
      " 15  Labor Union1                  30828 non-null  object        \n",
      " 16  Votes for Labor Union1        29673 non-null  float64       \n",
      " 17  Labor Union2                  1699 non-null   object        \n",
      " 18  Votes for Labor Union2        911 non-null    float64       \n",
      " 19  Labor Union3                  121 non-null    object        \n",
      " 20  Votes for Labor Union3        73 non-null     float64       \n",
      " 21  Votes Against                 24893 non-null  float64       \n",
      " 22  Total Ballots Counted         30115 non-null  float64       \n",
      " 23  Runoff Required               9216 non-null   object        \n",
      " 24  Challenged Ballots            11754 non-null  float64       \n",
      " 25  Challenges are Determinative  10431 non-null  object        \n",
      " 26  Union to Certify              20300 non-null  object        \n",
      " 27  Voting Unit (Unit A)          29848 non-null  object        \n",
      " 28  Voting Unit (Unit B)          932 non-null    object        \n",
      " 29  Voting Unit (Unit C)          746 non-null    object        \n",
      " 30  Voting Unit (Unit D)          610 non-null    object        \n",
      " 31  Petition Type                 30907 non-null  object        \n",
      " 32  Union                         30907 non-null  object        \n",
      " 33  Turnout                       30070 non-null  float64       \n",
      "dtypes: datetime64[ns](2), float64(9), object(23)\n",
      "memory usage: 8.0+ MB\n"
     ]
    }
   ],
   "source": [
    "elections = pd.read_csv('data/Elections/all_elections.csv', parse_dates = ['Date Filed', 'Date Closed'])\n",
    "elections.info()"
   ]
  },
  {
   "cell_type": "markdown",
   "id": "d3398a2d-1538-4ff0-aab5-fdacad3d803f",
   "metadata": {},
   "source": [
    "### STARBUCKS"
   ]
  },
  {
   "cell_type": "code",
   "execution_count": 53,
   "id": "68eef4d3-fb86-41f1-b1cb-711b199f906a",
   "metadata": {},
   "outputs": [],
   "source": [
    "starbucks_elections = elections[elections['Case Name'].astype(str).apply(lambda x: \"starbuck\" in x.lower()) | elections['Labor Union1'].astype(str).apply(lambda x: \"starbuck\" in x.lower())]"
   ]
  },
  {
   "cell_type": "code",
   "execution_count": 54,
   "id": "7367e787-3c09-4d99-8c8f-fc7b5119813d",
   "metadata": {},
   "outputs": [
    {
     "name": "stdout",
     "output_type": "stream",
     "text": [
      "<class 'pandas.core.frame.DataFrame'>\n",
      "Index: 576 entries, 23713 to 28714\n",
      "Data columns (total 34 columns):\n",
      " #   Column                        Non-Null Count  Dtype         \n",
      "---  ------                        --------------  -----         \n",
      " 0   Region                        576 non-null    object        \n",
      " 1   Case Number                   576 non-null    object        \n",
      " 2   Case Name                     576 non-null    object        \n",
      " 3   Status                        576 non-null    object        \n",
      " 4   Date Filed                    576 non-null    datetime64[ns]\n",
      " 5   Date Closed                   549 non-null    datetime64[ns]\n",
      " 6   Reason Closed                 549 non-null    object        \n",
      " 7   City                          576 non-null    object        \n",
      " 8   States & Territories          576 non-null    object        \n",
      " 9   Unit ID                       576 non-null    object        \n",
      " 10  Ballot Type                   576 non-null    object        \n",
      " 11  Tally Type                    576 non-null    object        \n",
      " 12  Tally Date                    576 non-null    object        \n",
      " 13  No of Eligible Voters         575 non-null    float64       \n",
      " 14  Void Ballots                  76 non-null     float64       \n",
      " 15  Labor Union1                  576 non-null    object        \n",
      " 16  Votes for Labor Union1        574 non-null    float64       \n",
      " 17  Labor Union2                  0 non-null      object        \n",
      " 18  Votes for Labor Union2        0 non-null      float64       \n",
      " 19  Labor Union3                  0 non-null      object        \n",
      " 20  Votes for Labor Union3        0 non-null      float64       \n",
      " 21  Votes Against                 475 non-null    float64       \n",
      " 22  Total Ballots Counted         566 non-null    float64       \n",
      " 23  Runoff Required               0 non-null      object        \n",
      " 24  Challenged Ballots            215 non-null    float64       \n",
      " 25  Challenges are Determinative  37 non-null     object        \n",
      " 26  Union to Certify              467 non-null    object        \n",
      " 27  Voting Unit (Unit A)          569 non-null    object        \n",
      " 28  Voting Unit (Unit B)          0 non-null      object        \n",
      " 29  Voting Unit (Unit C)          0 non-null      object        \n",
      " 30  Voting Unit (Unit D)          0 non-null      object        \n",
      " 31  Petition Type                 576 non-null    object        \n",
      " 32  Union                         576 non-null    object        \n",
      " 33  Turnout                       565 non-null    float64       \n",
      "dtypes: datetime64[ns](2), float64(9), object(23)\n",
      "memory usage: 157.5+ KB\n"
     ]
    }
   ],
   "source": [
    "starbucks_elections.info()"
   ]
  },
  {
   "cell_type": "code",
   "execution_count": 55,
   "id": "7f61af96-912e-4754-9df8-15a943029f77",
   "metadata": {},
   "outputs": [
    {
     "data": {
      "text/plain": [
       "Date Filed\n",
       "2022    367\n",
       "2023    136\n",
       "2024     55\n",
       "2021     18\n",
       "Name: count, dtype: int64"
      ]
     },
     "execution_count": 55,
     "metadata": {},
     "output_type": "execute_result"
    }
   ],
   "source": [
    "starbucks_elections['Date Filed'].dt.year.value_counts()"
   ]
  },
  {
   "cell_type": "code",
   "execution_count": 56,
   "id": "a3c76985-12de-49e2-81e5-b186cf6ece2e",
   "metadata": {},
   "outputs": [
    {
     "data": {
      "text/plain": [
       "Petition Type\n",
       "RC    570\n",
       "RM      6\n",
       "Name: count, dtype: int64"
      ]
     },
     "execution_count": 56,
     "metadata": {},
     "output_type": "execute_result"
    }
   ],
   "source": [
    "starbucks_elections['Petition Type'].value_counts()"
   ]
  },
  {
   "cell_type": "code",
   "execution_count": 57,
   "id": "9abd2438-510b-491a-88ad-71b8198922aa",
   "metadata": {},
   "outputs": [
    {
     "data": {
      "text/plain": [
       "Reason Closed\n",
       "Certific. of Representative    454\n",
       "Certification of Results        93\n",
       "Withdrawal Non-adjusted          2\n",
       "Name: count, dtype: int64"
      ]
     },
     "execution_count": 57,
     "metadata": {},
     "output_type": "execute_result"
    }
   ],
   "source": [
    "starbucks_elections['Reason Closed'].value_counts()"
   ]
  },
  {
   "cell_type": "code",
   "execution_count": 58,
   "id": "0ce046af-00aa-49e2-86b9-b204ffbcc9e7",
   "metadata": {},
   "outputs": [],
   "source": [
    "starbucks_elections = starbucks_elections[['Petition Type', 'No of Eligible Voters', 'Void Ballots', 'Votes for Labor Union1', 'Votes Against', 'Total Ballots Counted', 'Turnout', 'Challenged Ballots', 'Challenges are Determinative', 'Union','Case Number', 'Case Name', 'Status', 'Reason Closed', 'Date Filed', 'Date Closed', 'City', 'States & Territories', 'Region']]"
   ]
  },
  {
   "cell_type": "code",
   "execution_count": 61,
   "id": "c53c9d97-7fb1-4658-89a2-9988ecbbfca7",
   "metadata": {},
   "outputs": [],
   "source": [
    "def get_outcome(reason):\n",
    "    if reason == \"Certific. of Representative\":\n",
    "        return \"Win\"\n",
    "    elif reason == \"Certification of Results\":\n",
    "        return \"Loss\"\n",
    "    else:\n",
    "        return \"\""
   ]
  },
  {
   "cell_type": "code",
   "execution_count": 63,
   "id": "17636017-cc38-45cf-9818-4c40245f0426",
   "metadata": {},
   "outputs": [],
   "source": [
    "starbucks_elections['Outcome'] = starbucks_elections['Reason Closed'].apply(get_outcome)"
   ]
  },
  {
   "cell_type": "code",
   "execution_count": 68,
   "id": "75580cd3-30af-4b9a-9155-160a08acc0d7",
   "metadata": {},
   "outputs": [],
   "source": [
    "starbucks_elections.index = starbucks_elections['Date Filed']"
   ]
  },
  {
   "cell_type": "code",
   "execution_count": 100,
   "id": "afc7616d-a2ea-4342-8a99-05c76f87e92a",
   "metadata": {},
   "outputs": [],
   "source": [
    "# Number of filings per month\n",
    "filings_per_month = starbucks_elections[starbucks_elections['Petition Type'] == 'RC']['Petition Type'].apply(lambda x: 1 ).resample(\"M\").sum()"
   ]
  },
  {
   "cell_type": "code",
   "execution_count": 117,
   "id": "9e9c4c5b-4172-4a57-9050-19d52b352d85",
   "metadata": {},
   "outputs": [
    {
     "data": {
      "image/png": "[encoded data removed]",
      "text/plain": [
       "<Figure size 640x480 with 1 Axes>"
      ]
     },
     "metadata": {},
     "output_type": "display_data"
    }
   ],
   "source": [
    "plt.plot(filings_per_month, marker = \".\")\n",
    "plt.xticks(pd.Series(pd.date_range(start = \"2021-08-31\", end = \"2024-06-30\", freq = \"3M\")), rotation = 45)\n",
    "plt.ylabel(\"Number of filings per month\")\n",
    "plt.show()"
   ]
  },
  {
   "cell_type": "code",
   "execution_count": null,
   "id": "40f6e8f6-cc11-4215-8e3d-9f8d8a49629b",
   "metadata": {},
   "outputs": [],
   "source": []
  }
 ],
 "metadata": {
  "kernelspec": {
   "display_name": "Python 3 (ipykernel)",
   "language": "python",
   "name": "python3"
  },
  "language_info": {
   "codemirror_mode": {
    "name": "ipython",
    "version": 3
   },
   "file_extension": ".py",
   "mimetype": "text/x-python",
   "name": "python",
   "nbconvert_exporter": "python",
   "pygments_lexer": "ipython3",
   "version": "3.11.8"
  }
 },
 "nbformat": 4,
 "nbformat_minor": 5
}

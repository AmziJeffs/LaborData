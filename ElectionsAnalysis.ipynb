{
 "cells": [
  {
   "cell_type": "code",
   "execution_count": 1,
   "id": "95bb549c-e500-4ab8-ae4b-b57763b6441a",
   "metadata": {},
   "outputs": [],
   "source": [
    "import numpy as np\n",
    "import pandas as pd\n",
    "import matplotlib.pyplot as plt\n",
    "import seaborn as sns\n",
    "sns.set_style(\"whitegrid\")\n",
    "pd.set_option('display.max_rows', 1000)"
   ]
  },
  {
   "cell_type": "code",
   "execution_count": 2,
   "id": "a4c57394-79a6-4508-8efb-841653f1a3f1",
   "metadata": {},
   "outputs": [
    {
     "name": "stdout",
     "output_type": "stream",
     "text": [
      "<class 'pandas.core.frame.DataFrame'>\n",
      "RangeIndex: 30907 entries, 0 to 30906\n",
      "Data columns (total 34 columns):\n",
      " #   Column                        Non-Null Count  Dtype         \n",
      "---  ------                        --------------  -----         \n",
      " 0   Region                        30907 non-null  object        \n",
      " 1   Case Number                   30907 non-null  object        \n",
      " 2   Case Name                     30907 non-null  object        \n",
      " 3   Status                        30907 non-null  object        \n",
      " 4   Date Filed                    30907 non-null  datetime64[ns]\n",
      " 5   Date Closed                   30498 non-null  datetime64[ns]\n",
      " 6   Reason Closed                 30497 non-null  object        \n",
      " 7   City                          30907 non-null  object        \n",
      " 8   States & Territories          30907 non-null  object        \n",
      " 9   Unit ID                       30907 non-null  object        \n",
      " 10  Ballot Type                   30907 non-null  object        \n",
      " 11  Tally Type                    30906 non-null  object        \n",
      " 12  Tally Date                    30907 non-null  object        \n",
      " 13  No of Eligible Voters         30849 non-null  float64       \n",
      " 14  Void Ballots                  5150 non-null   float64       \n",
      " 15  Labor Union1                  30828 non-null  object        \n",
      " 16  Votes for Labor Union1        29673 non-null  float64       \n",
      " 17  Labor Union2                  1699 non-null   object        \n",
      " 18  Votes for Labor Union2        911 non-null    float64       \n",
      " 19  Labor Union3                  121 non-null    object        \n",
      " 20  Votes for Labor Union3        73 non-null     float64       \n",
      " 21  Votes Against                 24893 non-null  float64       \n",
      " 22  Total Ballots Counted         30115 non-null  float64       \n",
      " 23  Runoff Required               9216 non-null   object        \n",
      " 24  Challenged Ballots            11754 non-null  float64       \n",
      " 25  Challenges are Determinative  10431 non-null  object        \n",
      " 26  Union to Certify              20300 non-null  object        \n",
      " 27  Voting Unit (Unit A)          29848 non-null  object        \n",
      " 28  Voting Unit (Unit B)          932 non-null    object        \n",
      " 29  Voting Unit (Unit C)          746 non-null    object        \n",
      " 30  Voting Unit (Unit D)          610 non-null    object        \n",
      " 31  Petition Type                 30907 non-null  object        \n",
      " 32  Union                         30907 non-null  object        \n",
      " 33  Turnout                       30070 non-null  float64       \n",
      "dtypes: datetime64[ns](2), float64(9), object(23)\n",
      "memory usage: 8.0+ MB\n"
     ]
    }
   ],
   "source": [
    "elections = pd.read_csv('data/Elections/all_elections.csv', parse_dates = ['Date Filed', 'Date Closed'])\n",
    "elections.info()"
   ]
  },
  {
   "cell_type": "markdown",
   "id": "c7c88702-1e23-41be-a4a7-6e52137f922b",
   "metadata": {},
   "source": [
    "### GENERAL ANALYSIS"
   ]
  },
  {
   "cell_type": "code",
   "execution_count": 3,
   "id": "1f5e2eac-50db-4e12-bac1-2d4baf4da02e",
   "metadata": {},
   "outputs": [
    {
     "data": {
      "text/plain": [
       "Ballot Type\n",
       "Single Labor Organization    28349\n",
       "Two Labor Organizations       1553\n",
       "Revised Single Labor Org       554\n",
       "UD                             308\n",
       "Three Labor Organizations      111\n",
       "Revised Two Labor Orgs          32\n",
       "Name: count, dtype: int64"
      ]
     },
     "execution_count": 3,
     "metadata": {},
     "output_type": "execute_result"
    }
   ],
   "source": [
    "elections['Ballot Type'].value_counts()"
   ]
  },
  {
   "cell_type": "code",
   "execution_count": 4,
   "id": "b99cc3f0-f2ed-4bfa-a599-e220356fc86d",
   "metadata": {},
   "outputs": [],
   "source": [
    "# Restrict our attention to elections where only one union was on the ballot\n",
    "single_elections = elections[elections['Ballot Type'] == 'Single Labor Organization']"
   ]
  },
  {
   "cell_type": "code",
   "execution_count": 6,
   "id": "381a5e1d-f0e3-4246-bc78-844cc88608ed",
   "metadata": {},
   "outputs": [],
   "source": [
    "# Restrict to representation elections\n",
    "single_elections = single_elections[single_elections['Petition Type'] == 'RC']"
   ]
  },
  {
   "cell_type": "code",
   "execution_count": 7,
   "id": "f00becd1-8188-432e-861c-93b941358723",
   "metadata": {},
   "outputs": [],
   "source": [
    "# Set date closed as the index\n",
    "single_elections.index = single_elections['Date Closed']"
   ]
  },
  {
   "cell_type": "code",
   "execution_count": 8,
   "id": "0eec1426-fb5c-4f45-9dd3-c33c53a16b2c",
   "metadata": {},
   "outputs": [],
   "source": [
    "# Make it easier to read the win/loss outcome of the election\n",
    "def get_outcome(reason):\n",
    "    if reason == \"Certific. of Representative\":\n",
    "        return \"Win\"\n",
    "    elif reason == \"Certification of Results\":\n",
    "        return \"Loss\"\n",
    "    else:\n",
    "        return \"\"\n",
    "single_elections['Outcome'] = single_elections['Reason Closed'].apply(get_outcome)"
   ]
  },
  {
   "cell_type": "code",
   "execution_count": 10,
   "id": "0249f775-e87d-4b5f-9772-fd00b3da74dc",
   "metadata": {},
   "outputs": [],
   "source": [
    "# Make a column that counts the number of new union members in successful union votes \n",
    "single_elections['Number Unionized'] = single_elections['No of Eligible Voters']*single_elections['Outcome'].apply(lambda x: 1 if x == \"Win\" else 0)"
   ]
  },
  {
   "cell_type": "code",
   "execution_count": 11,
   "id": "007be0a9-dc48-4772-b3e1-fd59148371c2",
   "metadata": {},
   "outputs": [],
   "source": [
    "# Drop duplicate case numbers (some of these are re-runs of the same election)\n",
    "single_elections = single_elections.drop_duplicates(subset=['Case Number'], keep = 'last')"
   ]
  },
  {
   "cell_type": "code",
   "execution_count": 74,
   "id": "05b790a9-d660-40e8-b0a0-f6dda9f430ad",
   "metadata": {},
   "outputs": [],
   "source": [
    "# Resample to count the number of new union members per month\n",
    "number_unionized_by_month = single_elections['Number Unionized'].resample(\"M\").sum()"
   ]
  },
  {
   "cell_type": "code",
   "execution_count": 106,
   "id": "1b0b5fdc-2797-4cef-99a0-6d159550031e",
   "metadata": {},
   "outputs": [
    {
     "data": {
      "image/png": "[encoded data removed]",
      "text/plain": [
       "<Figure size 800x500 with 1 Axes>"
      ]
     },
     "metadata": {},
     "output_type": "display_data"
    }
   ],
   "source": [
    "# Plot the result (rolling average smooths outliers a bit)\n",
    "rolling_window = 6\n",
    "rolling_average_number_by_month = number_unionized_by_month.loc[\"2014-07\":\"2024-04\"].rolling(rolling_window).mean()\n",
    "plt.figure(figsize = (8, 5))\n",
    "plt.fill_between(rolling_average_number_by_month.index, rolling_average_number_by_month, color = 'blue', alpha=0.5, step='pre')\n",
    "plt.xlabel(\"Year\")\n",
    "plt.ylabel(\"New union members\")\n",
    "plt.ylim(bottom = 0)\n",
    "plt.yticks([(i+1)*1000 for i in range(8)])\n",
    "plt.xlim(rolling_average_number_by_month.index[5], rolling_average_number_by_month.index[-1])\n",
    "plt.title(f\"Newly unionized workers by month (rolling {rolling_window}-month average)\")\n",
    "plt.show()"
   ]
  },
  {
   "cell_type": "markdown",
   "id": "d3398a2d-1538-4ff0-aab5-fdacad3d803f",
   "metadata": {},
   "source": [
    "### STARBUCKS"
   ]
  },
  {
   "cell_type": "code",
   "execution_count": 18,
   "id": "68eef4d3-fb86-41f1-b1cb-711b199f906a",
   "metadata": {},
   "outputs": [],
   "source": [
    "starbucks_elections = elections[elections['Case Name'].astype(str).apply(lambda x: \"starbuck\" in x.lower()) | elections['Labor Union1'].astype(str).apply(lambda x: \"starbuck\" in x.lower())]"
   ]
  },
  {
   "cell_type": "code",
   "execution_count": 19,
   "id": "7367e787-3c09-4d99-8c8f-fc7b5119813d",
   "metadata": {},
   "outputs": [
    {
     "name": "stdout",
     "output_type": "stream",
     "text": [
      "<class 'pandas.core.frame.DataFrame'>\n",
      "Index: 576 entries, 23713 to 28714\n",
      "Data columns (total 34 columns):\n",
      " #   Column                        Non-Null Count  Dtype         \n",
      "---  ------                        --------------  -----         \n",
      " 0   Region                        576 non-null    object        \n",
      " 1   Case Number                   576 non-null    object        \n",
      " 2   Case Name                     576 non-null    object        \n",
      " 3   Status                        576 non-null    object        \n",
      " 4   Date Filed                    576 non-null    datetime64[ns]\n",
      " 5   Date Closed                   549 non-null    datetime64[ns]\n",
      " 6   Reason Closed                 549 non-null    object        \n",
      " 7   City                          576 non-null    object        \n",
      " 8   States & Territories          576 non-null    object        \n",
      " 9   Unit ID                       576 non-null    object        \n",
      " 10  Ballot Type                   576 non-null    object        \n",
      " 11  Tally Type                    576 non-null    object        \n",
      " 12  Tally Date                    576 non-null    object        \n",
      " 13  No of Eligible Voters         575 non-null    float64       \n",
      " 14  Void Ballots                  76 non-null     float64       \n",
      " 15  Labor Union1                  576 non-null    object        \n",
      " 16  Votes for Labor Union1        574 non-null    float64       \n",
      " 17  Labor Union2                  0 non-null      object        \n",
      " 18  Votes for Labor Union2        0 non-null      float64       \n",
      " 19  Labor Union3                  0 non-null      object        \n",
      " 20  Votes for Labor Union3        0 non-null      float64       \n",
      " 21  Votes Against                 475 non-null    float64       \n",
      " 22  Total Ballots Counted         566 non-null    float64       \n",
      " 23  Runoff Required               0 non-null      object        \n",
      " 24  Challenged Ballots            215 non-null    float64       \n",
      " 25  Challenges are Determinative  37 non-null     object        \n",
      " 26  Union to Certify              467 non-null    object        \n",
      " 27  Voting Unit (Unit A)          569 non-null    object        \n",
      " 28  Voting Unit (Unit B)          0 non-null      object        \n",
      " 29  Voting Unit (Unit C)          0 non-null      object        \n",
      " 30  Voting Unit (Unit D)          0 non-null      object        \n",
      " 31  Petition Type                 576 non-null    object        \n",
      " 32  Union                         576 non-null    object        \n",
      " 33  Turnout                       565 non-null    float64       \n",
      "dtypes: datetime64[ns](2), float64(9), object(23)\n",
      "memory usage: 157.5+ KB\n"
     ]
    }
   ],
   "source": [
    "starbucks_elections.info()"
   ]
  },
  {
   "cell_type": "code",
   "execution_count": 20,
   "id": "7f61af96-912e-4754-9df8-15a943029f77",
   "metadata": {},
   "outputs": [
    {
     "data": {
      "text/plain": [
       "Date Filed\n",
       "2022    367\n",
       "2023    136\n",
       "2024     55\n",
       "2021     18\n",
       "Name: count, dtype: int64"
      ]
     },
     "execution_count": 20,
     "metadata": {},
     "output_type": "execute_result"
    }
   ],
   "source": [
    "starbucks_elections['Date Filed'].dt.year.value_counts()"
   ]
  },
  {
   "cell_type": "code",
   "execution_count": 21,
   "id": "a3c76985-12de-49e2-81e5-b186cf6ece2e",
   "metadata": {},
   "outputs": [
    {
     "data": {
      "text/plain": [
       "Petition Type\n",
       "RC    570\n",
       "RM      6\n",
       "Name: count, dtype: int64"
      ]
     },
     "execution_count": 21,
     "metadata": {},
     "output_type": "execute_result"
    }
   ],
   "source": [
    "starbucks_elections['Petition Type'].value_counts()"
   ]
  },
  {
   "cell_type": "code",
   "execution_count": 22,
   "id": "9abd2438-510b-491a-88ad-71b8198922aa",
   "metadata": {},
   "outputs": [
    {
     "data": {
      "text/plain": [
       "Reason Closed\n",
       "Certific. of Representative    454\n",
       "Certification of Results        93\n",
       "Withdrawal Non-adjusted          2\n",
       "Name: count, dtype: int64"
      ]
     },
     "execution_count": 22,
     "metadata": {},
     "output_type": "execute_result"
    }
   ],
   "source": [
    "starbucks_elections['Reason Closed'].value_counts()"
   ]
  },
  {
   "cell_type": "code",
   "execution_count": 23,
   "id": "0ce046af-00aa-49e2-86b9-b204ffbcc9e7",
   "metadata": {},
   "outputs": [],
   "source": [
    "starbucks_elections = starbucks_elections[['Petition Type', 'No of Eligible Voters', 'Void Ballots', 'Votes for Labor Union1', 'Votes Against', 'Total Ballots Counted', 'Turnout', 'Challenged Ballots', 'Challenges are Determinative', 'Union','Case Number', 'Case Name', 'Status', 'Reason Closed', 'Date Filed', 'Date Closed', 'City', 'States & Territories', 'Region']]"
   ]
  },
  {
   "cell_type": "code",
   "execution_count": 24,
   "id": "c53c9d97-7fb1-4658-89a2-9988ecbbfca7",
   "metadata": {},
   "outputs": [],
   "source": [
    "def get_outcome(reason):\n",
    "    if reason == \"Certific. of Representative\":\n",
    "        return \"Win\"\n",
    "    elif reason == \"Certification of Results\":\n",
    "        return \"Loss\"\n",
    "    else:\n",
    "        return \"\""
   ]
  },
  {
   "cell_type": "code",
   "execution_count": 25,
   "id": "17636017-cc38-45cf-9818-4c40245f0426",
   "metadata": {},
   "outputs": [],
   "source": [
    "starbucks_elections['Outcome'] = starbucks_elections['Reason Closed'].apply(get_outcome)"
   ]
  },
  {
   "cell_type": "code",
   "execution_count": 26,
   "id": "75580cd3-30af-4b9a-9155-160a08acc0d7",
   "metadata": {},
   "outputs": [],
   "source": [
    "starbucks_elections.index = starbucks_elections['Date Filed']"
   ]
  },
  {
   "cell_type": "code",
   "execution_count": 27,
   "id": "afc7616d-a2ea-4342-8a99-05c76f87e92a",
   "metadata": {},
   "outputs": [],
   "source": [
    "# Number of filings per month\n",
    "filings_per_month = starbucks_elections[starbucks_elections['Petition Type'] == 'RC']['Petition Type'].apply(lambda x: 1 ).resample(\"M\").sum()"
   ]
  },
  {
   "cell_type": "code",
   "execution_count": 108,
   "id": "9e9c4c5b-4172-4a57-9050-19d52b352d85",
   "metadata": {},
   "outputs": [
    {
     "data": {
      "image/png": "[encoded data removed]",
      "text/plain": [
       "<Figure size 640x480 with 1 Axes>"
      ]
     },
     "metadata": {},
     "output_type": "display_data"
    }
   ],
   "source": [
    "plt.fill_between(filings_per_month.index,filings_per_month, color = 'blue', alpha=0.5, step='pre')\n",
    "plt.ylabel(\"Number of filings\")\n",
    "plt.xticks(rotation = 45)\n",
    "plt.xlabel(\"Month\")\n",
    "plt.ylim(bottom = 0)\n",
    "plt.title(\"New Starbucks filings by month\")\n",
    "plt.show()"
   ]
  },
  {
   "cell_type": "markdown",
   "id": "b8b614f6-c2f9-478a-b426-91a0fb652431",
   "metadata": {},
   "source": [
    "### UE"
   ]
  },
  {
   "cell_type": "code",
   "execution_count": 37,
   "id": "5b7e09d5-ae9d-4b4c-8988-edaceeb1bb15",
   "metadata": {},
   "outputs": [],
   "source": [
    "ue_elections = elections[elections['Union'] == \"UE\"]"
   ]
  },
  {
   "cell_type": "code",
   "execution_count": 42,
   "id": "6a5a75c5-8ff3-45a3-b41d-09658f870a3e",
   "metadata": {},
   "outputs": [],
   "source": [
    "ue_elections.index = ue_elections['Date Closed']"
   ]
  },
  {
   "cell_type": "code",
   "execution_count": 43,
   "id": "66ef5db0-2eaa-474f-be02-0d3100ce96d7",
   "metadata": {},
   "outputs": [],
   "source": [
    "ue_elections['Outcome'] = ue_elections['Reason Closed'].apply(get_outcome)"
   ]
  },
  {
   "cell_type": "code",
   "execution_count": 45,
   "id": "6bb4212b-6cd1-4efb-945e-bc985ce6f79f",
   "metadata": {},
   "outputs": [
    {
     "data": {
      "text/plain": [
       "Date Closed  Outcome\n",
       "2007         Loss       1\n",
       "             Win        1\n",
       "2008         Win        9\n",
       "             Loss       4\n",
       "2010         Win        4\n",
       "             Loss       2\n",
       "2011         Win        1\n",
       "             Loss       1\n",
       "2012         Loss       8\n",
       "             Win        4\n",
       "2013         Loss       2\n",
       "2014         Win        4\n",
       "             Loss       1\n",
       "2015         Win        7\n",
       "                        3\n",
       "2016         Win        5\n",
       "2017         Win        5\n",
       "             Loss       2\n",
       "2018         Win        3\n",
       "2019         Win        2\n",
       "2020         Win        1\n",
       "2021         Win        2\n",
       "             Loss       1\n",
       "2022         Win        5\n",
       "2023         Win        8\n",
       "2024         Win        1\n",
       "Name: count, dtype: int64"
      ]
     },
     "execution_count": 45,
     "metadata": {},
     "output_type": "execute_result"
    }
   ],
   "source": [
    "ue_elections.groupby(by = ue_elections['Date Closed'].dt.year)['Outcome'].value_counts()"
   ]
  },
  {
   "cell_type": "code",
   "execution_count": 46,
   "id": "a07ba8c4-097e-4fa5-8f4d-dbb2359be95c",
   "metadata": {},
   "outputs": [],
   "source": [
    "ue_elections['Number Unionized'] = ue_elections['No of Eligible Voters']*ue_elections['Outcome'].apply(lambda x: 1 if x == \"Win\" else 0)"
   ]
  },
  {
   "cell_type": "code",
   "execution_count": 47,
   "id": "676f7d2d-9126-44cd-bc36-d7c181109d40",
   "metadata": {},
   "outputs": [],
   "source": [
    "number_unionized_by_month = ue_elections['Number Unionized'].resample(\"M\").sum()"
   ]
  },
  {
   "cell_type": "code",
   "execution_count": 72,
   "id": "46b01f1e-6d44-4a41-a372-0ffc401ed75d",
   "metadata": {},
   "outputs": [
    {
     "data": {
      "image/png": "[encoded data removed]",
      "text/plain": [
       "<Figure size 800x500 with 1 Axes>"
      ]
     },
     "metadata": {},
     "output_type": "display_data"
    }
   ],
   "source": [
    "rolling_window = 6\n",
    "rolling_average_number_by_month = number_unionized_by_month.loc[\"2015\":\"2024-04\"].rolling(rolling_window).mean()\n",
    "plt.figure(figsize = (8, 5))\n",
    "plt.bar(rolling_average_number_by_month.index, rolling_average_number_by_month, width = 21.7, color = 'blue', edgecolor = \"none\")\n",
    "plt.xlabel(\"Year\")\n",
    "plt.ylabel(\"New union members\")\n",
    "plt.title(f\"Newly unionized UE workers by month (rolling {rolling_window}-month average)\")\n",
    "plt.show()"
   ]
  },
  {
   "cell_type": "code",
   "execution_count": 53,
   "id": "e722ee5b-1b11-4de8-82da-c1b6f0aaab9f",
   "metadata": {},
   "outputs": [
    {
     "data": {
      "text/plain": [
       "Date Closed\n",
       "2010-01-31            NaN\n",
       "2010-02-28            NaN\n",
       "2010-03-31      54.000000\n",
       "2010-04-30      64.666667\n",
       "2010-05-31      10.666667\n",
       "2010-06-30      14.666667\n",
       "2010-07-31       4.000000\n",
       "2010-08-31      29.666667\n",
       "2010-09-30      25.666667\n",
       "2010-10-31      25.666667\n",
       "2010-11-30       0.000000\n",
       "2010-12-31       0.000000\n",
       "2011-01-31       0.000000\n",
       "2011-02-28       0.000000\n",
       "2011-03-31       0.000000\n",
       "2011-04-30       0.000000\n",
       "2011-05-31       0.000000\n",
       "2011-06-30       0.000000\n",
       "2011-07-31       0.000000\n",
       "2011-08-31       0.000000\n",
       "2011-09-30       0.000000\n",
       "2011-10-31      81.000000\n",
       "2011-11-30      81.000000\n",
       "2011-12-31      81.000000\n",
       "2012-01-31       0.000000\n",
       "2012-02-29       0.000000\n",
       "2012-03-31      11.000000\n",
       "2012-04-30      11.000000\n",
       "2012-05-31      15.666667\n",
       "2012-06-30       4.666667\n",
       "2012-07-31       4.666667\n",
       "2012-08-31       0.000000\n",
       "2012-09-30       0.000000\n",
       "2012-10-31      12.000000\n",
       "2012-11-30      12.000000\n",
       "2012-12-31      12.000000\n",
       "2013-01-31       0.000000\n",
       "2013-02-28       0.000000\n",
       "2013-03-31       0.000000\n",
       "2013-04-30       0.000000\n",
       "2013-05-31       0.000000\n",
       "2013-06-30       0.000000\n",
       "2013-07-31       0.000000\n",
       "2013-08-31       0.000000\n",
       "2013-09-30       0.000000\n",
       "2013-10-31       0.000000\n",
       "2013-11-30       0.000000\n",
       "2013-12-31       0.000000\n",
       "2014-01-31       0.000000\n",
       "2014-02-28       0.000000\n",
       "2014-03-31     183.000000\n",
       "2014-04-30     245.666667\n",
       "2014-05-31     261.666667\n",
       "2014-06-30      78.666667\n",
       "2014-07-31      16.000000\n",
       "2014-08-31       0.000000\n",
       "2014-09-30       0.000000\n",
       "2014-10-31       0.000000\n",
       "2014-11-30       0.000000\n",
       "2014-12-31       0.000000\n",
       "2015-01-31       0.000000\n",
       "2015-02-28      20.000000\n",
       "2015-03-31      20.000000\n",
       "2015-04-30      20.000000\n",
       "2015-05-31      93.000000\n",
       "2015-06-30      93.000000\n",
       "2015-07-31      93.000000\n",
       "2015-08-31       0.000000\n",
       "2015-09-30      63.666667\n",
       "2015-10-31      63.666667\n",
       "2015-11-30      63.666667\n",
       "2015-12-31       0.000000\n",
       "2016-01-31       0.000000\n",
       "2016-02-29       0.000000\n",
       "2016-03-31       0.000000\n",
       "2016-04-30       0.000000\n",
       "2016-05-31       0.000000\n",
       "2016-06-30      14.666667\n",
       "2016-07-31      14.666667\n",
       "2016-08-31      16.666667\n",
       "2016-09-30       5.000000\n",
       "2016-10-31     197.000000\n",
       "2016-11-30     195.000000\n",
       "2016-12-31     192.000000\n",
       "2017-01-31       0.000000\n",
       "2017-02-28       7.666667\n",
       "2017-03-31       7.666667\n",
       "2017-04-30       7.666667\n",
       "2017-05-31      54.666667\n",
       "2017-06-30      54.666667\n",
       "2017-07-31      54.666667\n",
       "2017-08-31       5.333333\n",
       "2017-09-30       5.333333\n",
       "2017-10-31       5.333333\n",
       "2017-11-30       0.000000\n",
       "2017-12-31       0.000000\n",
       "2018-01-31       0.000000\n",
       "2018-02-28       0.000000\n",
       "2018-03-31      61.000000\n",
       "2018-04-30      61.000000\n",
       "2018-05-31      61.000000\n",
       "2018-06-30       0.000000\n",
       "2018-07-31       0.000000\n",
       "2018-08-31       0.000000\n",
       "2018-09-30       0.000000\n",
       "2018-10-31       0.000000\n",
       "2018-11-30       0.000000\n",
       "2018-12-31     231.333333\n",
       "2019-01-31     231.333333\n",
       "2019-02-28     231.333333\n",
       "2019-03-31       0.000000\n",
       "2019-04-30       0.000000\n",
       "2019-05-31       0.000000\n",
       "2019-06-30       0.000000\n",
       "2019-07-31       0.000000\n",
       "2019-08-31       0.000000\n",
       "2019-09-30     119.333333\n",
       "2019-10-31     184.000000\n",
       "2019-11-30     184.000000\n",
       "2019-12-31      64.666667\n",
       "2020-01-31       0.000000\n",
       "2020-02-29       0.000000\n",
       "2020-03-31       0.000000\n",
       "2020-04-30       0.000000\n",
       "2020-05-31       0.000000\n",
       "2020-06-30     126.666667\n",
       "2020-07-31     126.666667\n",
       "2020-08-31     126.666667\n",
       "2020-09-30       0.000000\n",
       "2020-10-31       0.000000\n",
       "2020-11-30       0.000000\n",
       "2020-12-31       0.000000\n",
       "2021-01-31       0.000000\n",
       "2021-02-28       2.000000\n",
       "2021-03-31       2.000000\n",
       "2021-04-30       2.000000\n",
       "2021-05-31       0.000000\n",
       "2021-06-30      37.666667\n",
       "2021-07-31      37.666667\n",
       "2021-08-31      37.666667\n",
       "2021-09-30       0.000000\n",
       "2021-10-31       0.000000\n",
       "2021-11-30       0.000000\n",
       "2021-12-31       0.000000\n",
       "2022-01-31       0.000000\n",
       "2022-02-28       0.000000\n",
       "2022-03-31       0.000000\n",
       "2022-04-30    1274.333333\n",
       "2022-05-31    1274.333333\n",
       "2022-06-30    1432.000000\n",
       "2022-07-31     157.666667\n",
       "2022-08-31     157.666667\n",
       "2022-09-30       0.000000\n",
       "2022-10-31     105.333333\n",
       "2022-11-30     105.333333\n",
       "2022-12-31     105.333333\n",
       "2023-01-31    1000.000000\n",
       "2023-02-28    2068.333333\n",
       "2023-03-31    3135.000000\n",
       "2023-04-30    2397.333333\n",
       "2023-05-31    1329.000000\n",
       "2023-06-30     262.333333\n",
       "2023-07-31    1163.000000\n",
       "2023-08-31    1163.000000\n",
       "2023-09-30    1163.000000\n",
       "2023-10-31       0.000000\n",
       "2023-11-30    1058.333333\n",
       "2023-12-31    1058.333333\n",
       "2024-01-31    1058.333333\n",
       "2024-02-29       0.000000\n",
       "2024-03-31       0.000000\n",
       "2024-04-30      40.000000\n",
       "Freq: M, Name: Number Unionized, dtype: float64"
      ]
     },
     "execution_count": 53,
     "metadata": {},
     "output_type": "execute_result"
    }
   ],
   "source": [
    "rolling_average_number_by_month"
   ]
  },
  {
   "cell_type": "code",
   "execution_count": null,
   "id": "e012ca90-a49b-4029-b623-bb687e0b6d6d",
   "metadata": {},
   "outputs": [],
   "source": []
  }
 ],
 "metadata": {
  "kernelspec": {
   "display_name": "Python 3 (ipykernel)",
   "language": "python",
   "name": "python3"
  },
  "language_info": {
   "codemirror_mode": {
    "name": "ipython",
    "version": 3
   },
   "file_extension": ".py",
   "mimetype": "text/x-python",
   "name": "python",
   "nbconvert_exporter": "python",
   "pygments_lexer": "ipython3",
   "version": "3.11.8"
  }
 },
 "nbformat": 4,
 "nbformat_minor": 5
}

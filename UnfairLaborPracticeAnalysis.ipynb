{
 "cells": [
  {
   "cell_type": "code",
   "execution_count": 1,
   "id": "079f89a7-c0c3-46c8-957f-26d57ec6b1d0",
   "metadata": {},
   "outputs": [],
   "source": [
    "import pandas as pd"
   ]
  },
  {
   "cell_type": "code",
   "execution_count": 43,
   "id": "7ec2249a-1e75-4a07-bb3a-59fba9db6488",
   "metadata": {},
   "outputs": [],
   "source": [
    "# Import data files\n",
    "\n",
    "# Column data types, to avoid Pandas trying to parse data type on every column\n",
    "columns_to_import = [\"Case Type\",\"Region\",\"Case Number\",\"Case Name\",\"Status\",\"Date Filed\",\"Date Closed\",\"Reason Closed\"\n",
    "                     ,\"City\",\"States & Territories\",\"Employees on charge/petition\",\"Allegations\",\"Participants\",\"Union\",\n",
    "                     \"Unit Sought\",\"Voters\"]\n",
    "column_dtypes = {c:\"string\" for c in columns_to_import}\n",
    "\n",
    "data_by_year = []\n",
    "for year in [\"pre2000\"]+list(range(2000, 2025)):\n",
    "    cases_that_year = pd.read_csv(\"data/UnfairLaborPractices/cleaned/\"+str(year)+\".csv\",  dtype = column_dtypes, parse_dates = [\"Date Filed\", \"Date Closed\"], date_format = \"%Y-%m-%d\")\n",
    "    # Need to cast Date Closed column to datetime manually, since some entries are <NA>\n",
    "    cases_that_year[\"Date Closed\"] = pd.to_datetime(cases_that_year[\"Date Closed\"].replace(\"<NA>\", pd.NaT), errors = \"coerce\")\n",
    "    data_by_year += [cases_that_year] \n",
    "\n",
    "ULPs = pd.concat(reversed(data_by_year), ignore_index = True)"
   ]
  },
  {
   "cell_type": "code",
   "execution_count": 44,
   "id": "e064234c-1144-4c4e-ac70-1676ca1946a0",
   "metadata": {},
   "outputs": [
    {
     "data": {
      "text/plain": [
       "400730"
      ]
     },
     "execution_count": 44,
     "metadata": {},
     "output_type": "execute_result"
    }
   ],
   "source": [
    "# Total number of cases = 400730\n",
    "len(ULPs)"
   ]
  },
  {
   "cell_type": "code",
   "execution_count": 45,
   "id": "5618a142-00f1-49b2-8809-e5db631b9a50",
   "metadata": {},
   "outputs": [
    {
     "data": {
      "text/plain": [
       "Date Filed\n",
       "2024     5446\n",
       "2023    19462\n",
       "2022    18231\n",
       "2021    15178\n",
       "2020    14794\n",
       "2019    17850\n",
       "2018    18891\n",
       "2017    19146\n",
       "2016    20934\n",
       "2015    19916\n",
       "2014    19409\n",
       "2013    21152\n",
       "2012    21040\n",
       "2011    21336\n",
       "2010    21824\n",
       "2009    23044\n",
       "2008    21125\n",
       "2007    21686\n",
       "2006    12794\n",
       "2005     8818\n",
       "2004     7117\n",
       "2003     7962\n",
       "2002     7496\n",
       "2001     5122\n",
       "2000     3882\n",
       "1999     3235\n",
       "1998     1634\n",
       "1997      794\n",
       "1996      510\n",
       "1995      314\n",
       "1994      196\n",
       "1993      137\n",
       "1992       93\n",
       "1991       43\n",
       "1990       35\n",
       "1989       32\n",
       "1988        9\n",
       "1987        9\n",
       "1986        9\n",
       "1985        5\n",
       "1984        5\n",
       "1983        3\n",
       "1982        3\n",
       "1981        3\n",
       "1980        1\n",
       "1978        5\n",
       "Name: count, dtype: int64"
      ]
     },
     "execution_count": 45,
     "metadata": {},
     "output_type": "execute_result"
    }
   ],
   "source": [
    "# Check which years have significant number of cases.\n",
    "# Seems that 2007 onwards is fairly consistently ~20k/year, so should perhaps\n",
    "# restrict our attention to those years.\n",
    "ULPs[\"Date Filed\"].dt.year.value_counts(sort = False)"
   ]
  },
  {
   "cell_type": "code",
   "execution_count": null,
   "id": "c2c92d93-eda4-42e1-8adc-9c449288a7ec",
   "metadata": {},
   "outputs": [],
   "source": []
  }
 ],
 "metadata": {
  "kernelspec": {
   "display_name": "Python 3 (ipykernel)",
   "language": "python",
   "name": "python3"
  },
  "language_info": {
   "codemirror_mode": {
    "name": "ipython",
    "version": 3
   },
   "file_extension": ".py",
   "mimetype": "text/x-python",
   "name": "python",
   "nbconvert_exporter": "python",
   "pygments_lexer": "ipython3",
   "version": "3.11.4"
  }
 },
 "nbformat": 4,
 "nbformat_minor": 5
}

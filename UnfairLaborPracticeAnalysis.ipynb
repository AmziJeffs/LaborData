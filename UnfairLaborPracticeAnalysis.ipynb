{
 "cells": [
  {
   "cell_type": "code",
   "execution_count": 1,
   "id": "079f89a7-c0c3-46c8-957f-26d57ec6b1d0",
   "metadata": {},
   "outputs": [],
   "source": [
    "import pandas as pd\n",
    "pd.set_option('display.max_rows', 100)\n",
    "pd.set_option('display.max_columns', 100)"
   ]
  },
  {
   "cell_type": "code",
   "execution_count": 2,
   "id": "7ec2249a-1e75-4a07-bb3a-59fba9db6488",
   "metadata": {},
   "outputs": [],
   "source": [
    "# Import data files\n",
    "\n",
    "# Column data types, to avoid Pandas trying to parse data type on every column\n",
    "columns_to_import = [\"Case Type\",\"Region\",\"Case Number\",\"Case Name\",\"Status\",\"Date Filed\",\"Date Closed\",\"Reason Closed\"\n",
    "                     ,\"City\",\"States & Territories\",\"Employees on charge/petition\",\"Allegations\",\"Participants\"]\n",
    "column_dtypes = {c:\"string\" for c in columns_to_import}\n",
    "\n",
    "data_by_year = []\n",
    "for year in [\"pre2000\"]+list(range(2000, 2025)):\n",
    "    cases_that_year = pd.read_csv(\"data/UnfairLaborPractices/cleaned/\"+str(year)+\".csv\",  dtype = column_dtypes, parse_dates = [\"Date Filed\", \"Date Closed\"], date_format = \"%Y-%m-%d\")\n",
    "    # Need to cast Date Closed column to datetime manually, since some entries are <NA>\n",
    "    cases_that_year[\"Date Closed\"] = pd.to_datetime(cases_that_year[\"Date Closed\"].replace(\"<NA>\", pd.NaT), errors = \"coerce\")\n",
    "    cases_that_year[\"Employees on charge/petition\"] = cases_that_year[\"Employees on charge/petition\"].astype('Int64')\n",
    "    data_by_year += [cases_that_year] \n",
    "\n",
    "ULPs = pd.concat(reversed(data_by_year), ignore_index = True)"
   ]
  },
  {
   "cell_type": "code",
   "execution_count": 3,
   "id": "e064234c-1144-4c4e-ac70-1676ca1946a0",
   "metadata": {},
   "outputs": [
    {
     "data": {
      "text/plain": [
       "400340"
      ]
     },
     "execution_count": 3,
     "metadata": {},
     "output_type": "execute_result"
    }
   ],
   "source": [
    "# Total number of cases = 400340\n",
    "len(ULPs)"
   ]
  },
  {
   "cell_type": "code",
   "execution_count": 4,
   "id": "5618a142-00f1-49b2-8809-e5db631b9a50",
   "metadata": {},
   "outputs": [
    {
     "data": {
      "text/plain": [
       "Date Filed\n",
       "2024     5407\n",
       "2023    19408\n",
       "2022    18113\n",
       "2021    15178\n",
       "2020    14733\n",
       "2019    17809\n",
       "2018    18891\n",
       "2017    19145\n",
       "2016    20933\n",
       "2015    19915\n",
       "2014    19385\n",
       "2013    21143\n",
       "2012    21032\n",
       "2011    21335\n",
       "2010    21824\n",
       "2009    23015\n",
       "2008    21125\n",
       "2007    21686\n",
       "2006    12794\n",
       "2005     8818\n",
       "2004     7114\n",
       "2003     7962\n",
       "2002     7496\n",
       "2001     5122\n",
       "2000     3882\n",
       "1999     3235\n",
       "1998     1634\n",
       "1997      794\n",
       "1996      510\n",
       "1995      314\n",
       "1994      196\n",
       "1993      137\n",
       "1992       93\n",
       "1991       43\n",
       "1990       35\n",
       "1989       32\n",
       "1988        9\n",
       "1987        9\n",
       "1986        9\n",
       "1985        5\n",
       "1984        5\n",
       "1983        3\n",
       "1982        3\n",
       "1981        3\n",
       "1980        1\n",
       "1978        5\n",
       "Name: count, dtype: int64"
      ]
     },
     "execution_count": 4,
     "metadata": {},
     "output_type": "execute_result"
    }
   ],
   "source": [
    "# Check which years have significant number of cases.\n",
    "# Seems that 2007 onwards is fairly consistently ~20k/year, so should perhaps\n",
    "# restrict our attention to those years.\n",
    "ULPs[\"Date Filed\"].dt.year.value_counts(sort = False)"
   ]
  },
  {
   "cell_type": "code",
   "execution_count": 5,
   "id": "c2c92d93-eda4-42e1-8adc-9c449288a7ec",
   "metadata": {},
   "outputs": [
    {
     "data": {
      "text/plain": [
       "340077"
      ]
     },
     "execution_count": 5,
     "metadata": {},
     "output_type": "execute_result"
    }
   ],
   "source": [
    "# Get rid of cases prior to 2007. This leaves 340077 cases.\n",
    "ULPs = ULPs[ULPs[\"Date Filed\"].dt.year >= 2007]\n",
    "ULPs.shape[0]"
   ]
  },
  {
   "cell_type": "code",
   "execution_count": 6,
   "id": "fe9d503a-d497-445b-add6-0a0a64bb2674",
   "metadata": {},
   "outputs": [],
   "source": [
    "# Each case has a number of parties involved, and all of them are stored in the \"Participants\" column\n",
    "# in one big messy string. There are three types of parties:\n",
    "#     1. Charged parties (i.e. the accused)\n",
    "#     2. Charging parties (i.e. the accuser)\n",
    "#     3. Involved parties\n",
    "# Below, we split these types of parties into three new columns \"Charged\", \"Charging\", and \"Involved\"\n",
    "# Each entry in these columns is a list of parties, each of which is a string\n",
    "\n",
    "from utilities import get_charged_charging_and_involved\n",
    "ULPs[[\"Charged\", \"Charging\", \"Involved\"]] = pd.DataFrame(ULPs[\"Participants\"].apply(get_charged_charging_and_involved).to_list())"
   ]
  },
  {
   "cell_type": "code",
   "execution_count": 7,
   "id": "6cdfe6d7-8b0e-4189-a267-e9151ca9e396",
   "metadata": {},
   "outputs": [
    {
     "data": {
      "text/plain": [
       "0         [Legal Representative, Caulkins Charles, Fishe...\n",
       "1         [Employer, Christy's Cleaning Service, LLC., G...\n",
       "2                     [Union, SEIU-UHW, Oakland, CA, 94612]\n",
       "3         [Union, International Brotherhood of Teamsters...\n",
       "4                 [Employer, ADAMAS, Rutherford, NJ, 07070]\n",
       "                                ...                        \n",
       "340072    [Employer, TRI-STATE COCA-BOTTLING, CINCINNATI...\n",
       "340073    [Employer, TRI-STATE COCA-COLA, CINCINNATI, OH...\n",
       "340074    [, THOMPSON COBURN, Not Available, St Louis, M...\n",
       "340075    [Notification, O'DONNELL JOHN, Murphy Anderson...\n",
       "340076    [Legal Representative, Brennan Megan, United S...\n",
       "Name: Charged, Length: 340077, dtype: object"
      ]
     },
     "execution_count": 7,
     "metadata": {},
     "output_type": "execute_result"
    }
   ],
   "source": [
    "ULPs[\"Charged\"]"
   ]
  },
  {
   "cell_type": "code",
   "execution_count": null,
   "id": "5aff0c04-664b-4b14-a6c8-85303c9a7af4",
   "metadata": {},
   "outputs": [],
   "source": [
    "# We are interested in the employers and unions involved in each case, and less\n",
    "# so in the various legal representatives and notified parties. We filter out\n",
    "# all the parties except for unions and employers.\n",
    "# TODO"
   ]
  }
 ],
 "metadata": {
  "kernelspec": {
   "display_name": "Python 3 (ipykernel)",
   "language": "python",
   "name": "python3"
  },
  "language_info": {
   "codemirror_mode": {
    "name": "ipython",
    "version": 3
   },
   "file_extension": ".py",
   "mimetype": "text/x-python",
   "name": "python",
   "nbconvert_exporter": "python",
   "pygments_lexer": "ipython3",
   "version": "3.11.4"
  }
 },
 "nbformat": 4,
 "nbformat_minor": 5
}

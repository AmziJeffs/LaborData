{
 "cells": [
  {
   "cell_type": "code",
   "execution_count": 1,
   "id": "d1fe4658-4828-4b20-b1cd-8ba8f1ccb4c0",
   "metadata": {},
   "outputs": [],
   "source": [
    "import pandas as pd\n",
    "import numpy as np\n",
    "from PyPDF2 import PdfReader\n",
    "from tqdm.notebook import tqdm"
   ]
  },
  {
   "cell_type": "markdown",
   "id": "6fa5bf73-7aca-46d2-8e2d-7e927190eff8",
   "metadata": {},
   "source": [
    "# Helper functions"
   ]
  },
  {
   "cell_type": "code",
   "execution_count": 3,
   "id": "34e59af2-d8ed-4cac-b21d-5012ae668567",
   "metadata": {},
   "outputs": [],
   "source": [
    "def get_date_accessed(reader):\n",
    "    t = reader.pages[0].extract_text()\n",
    "    return t.split(\"M \")[-2].split(\")\")[-1].split(\",\")[0]"
   ]
  },
  {
   "cell_type": "code",
   "execution_count": 4,
   "id": "f9a72a96-55a8-4fed-921c-f65a4d846ddb",
   "metadata": {},
   "outputs": [],
   "source": [
    "def get_officers_start_end_pages(reader):\n",
    "    start = None\n",
    "    end = None\n",
    "    for i, p in enumerate(reader.pages):\n",
    "        t = p.extract_text().replace(\" \", \"\").replace(\"\\n\", \"\")\n",
    "        if not start and \"ALLOFFICERSANDDISBURSEMENTSTOOFFICERS\" in t:\n",
    "            start = i\n",
    "        if start and \"TotalOfficerDisbursements\" in t:\n",
    "            end = i\n",
    "        if start and end:\n",
    "            break\n",
    "    return start, end\n",
    "\n",
    "def get_employees_start_end_pages(reader):\n",
    "    start = None\n",
    "    end = None\n",
    "    for i, p in enumerate(reader.pages):\n",
    "        t = p.extract_text().replace(\" \", \"\").replace(\"\\n\", \"\")\n",
    "        if not start and \"DISBURSEMENTSTOEMPLOYEES\" in t:\n",
    "            start = i\n",
    "        if start and \"TOTALSRECEIVEDBYEMPLOYEESMAKING$10,000ORLESS\" in t:\n",
    "            end = i\n",
    "        if start and end:\n",
    "            break\n",
    "    return start, end"
   ]
  },
  {
   "cell_type": "code",
   "execution_count": 5,
   "id": "da95ec23-d46b-41b2-b3c9-c2e8b7dc5b4e",
   "metadata": {},
   "outputs": [],
   "source": [
    "def process_employee_or_officer(emp):\n",
    "    lines = emp.strip().split(\"\\n\")\n",
    "    last, first = [a.replace(\" \", \"\") for a in lines[0].split(\",\", 1)]\n",
    "    title = lines[1].strip()\n",
    "    disbursements = [int(a.replace(\",\", \"_\").replace(\" \", \"\")) for a in lines[2].split(\"$\")[1:]]\n",
    "    salary = disbursements[-1] if len(disbursements) > 0 else None\n",
    "    activities = {}\n",
    "    activity_start_line = min([i for i, l in enumerate(lines) if \"Schedule\" in l])\n",
    "    for L in \" \".join(lines[activity_start_line:]).split(\"Schedule \")[1:]:\n",
    "        if \"Admin\" in L and \"Lobbying\" in L:\n",
    "            L = L.replace(\"Lobbying\", \"\")\n",
    "        activity = \"\".join(a for a in L.split(\" \", 1)[1] if (not a.isdigit() and a != \"%\")).strip()\n",
    "        if activity == \"Political Activities and\":\n",
    "            activity = \"Political Activities and Lobbying\"\n",
    "        pct = \"\".join(a for a in L.replace(\" \", \"\")[-4:] if a.isdigit())\n",
    "        if len(pct) > 0:\n",
    "            pct = int(pct)\n",
    "        else:\n",
    "            pct = 0\n",
    "        activities[activity] = pct\n",
    "    try:\n",
    "        assert len(activities) == 5\n",
    "    except:\n",
    "        print(activities)\n",
    "        print(emp)\n",
    "        print(\"\")\n",
    "    return dict({'Last Name': last,\n",
    "            'First Name': first,\n",
    "            'Title': title,\n",
    "            'Salary': salary,\n",
    "                }, **activities)"
   ]
  },
  {
   "cell_type": "code",
   "execution_count": 6,
   "id": "f8b8e341-4a7c-449f-8680-6f77286ae275",
   "metadata": {},
   "outputs": [],
   "source": [
    "def create_officers_list(reader):\n",
    "    startpage, endpage = get_officers_start_end_pages(reader)\n",
    "    date_acc = get_date_accessed(reader)\n",
    "    officers = \"\\n\".join([p.extract_text().split(\"TOTAL\\n\")[1].split(f\"{date_acc}\")[0] for p in reader.pages[startpage:endpage+1]])\n",
    "    assert(officers.count(\"Total\") == 1)\n",
    "    officers = officers.split(\"Total\")[0]\n",
    "    officer_list = officers.split(\"A\\nB\\nC\")[1:]\n",
    "    clean_officer_list = []\n",
    "    for o in officer_list:\n",
    "        if \"A\\nB\" in o:\n",
    "            o1, o2 = o.split(\"A\\nB\")\n",
    "            clean_officer_list.append(o1)\n",
    "            o2 = o2.replace(\"CNONE\", \"NONE\")\n",
    "            o2_disbursements = o2.split(\"$\",1)[1].split(\"\\n\")[0]\n",
    "            o2 = o2.replace(o2_disbursements, \"\")\n",
    "            o2 = o2.replace(\"NONE\", f\"NONE{o2_disbursements}\", 1)\n",
    "            clean_officer_list.append(o2)\n",
    "        else:\n",
    "            clean_officer_list.append(o)\n",
    "    officers_processed = [process_employee_or_officer(e) for e in clean_officer_list]\n",
    "    return officers_processed\n",
    "\n",
    "def create_employees_list(reader):\n",
    "    startpage, endpage = get_employees_start_end_pages(reader)\n",
    "    date_acc = get_date_accessed(reader)\n",
    "    employees = \"\\n\".join([p.extract_text().split(\"TOTAL\\n\")[1].split(f\"{date_acc}\")[0] for p in reader.pages[startpage:endpage+1]])\n",
    "    assert(employees.count(\"TOTALS\") == 1)\n",
    "    employees = employees.split(\"TOTALS\")[0]\n",
    "    employees_list = employees.split(\"A\\nB\\nC\")[1:]\n",
    "    clean_employees_list = []\n",
    "    for e in employees_list:\n",
    "        if \"A\\nB\" in e:\n",
    "            e1, e2 = e.split(\"A\\nB\")\n",
    "            clean_employees_list.append(e1)\n",
    "            e2 = e2.replace(\"CNONE\", \"NONE\")\n",
    "            e2_disbursements = e2.split(\"$\",1)[1].split(\"\\n\")[0]\n",
    "            e2 = e2.replace(e2_disbursements, \"\")\n",
    "            e2 = e2.replace(\"NONE\", f\"NONE{e2_disbursements}\", 1)\n",
    "            clean_employees_list.append(e2)\n",
    "        else:\n",
    "            clean_employees_list.append(e)\n",
    "    employees_processed = [process_employee_or_officer(e) for e in clean_employees_list]\n",
    "    return employees_processed"
   ]
  },
  {
   "cell_type": "markdown",
   "id": "6da315ec-96e2-4c08-89aa-e37e9e370eb6",
   "metadata": {},
   "source": [
    "# UAW"
   ]
  },
  {
   "cell_type": "code",
   "execution_count": null,
   "id": "fdfc4e11-9e25-4f90-b526-85f4d5b91bbf",
   "metadata": {},
   "outputs": [],
   "source": [
    "readers = [PdfReader(f\"documents/UAW LM2s/{year}.pdf\") for year in range(2000, 2024)]"
   ]
  },
  {
   "cell_type": "code",
   "execution_count": 7,
   "id": "a775fa34-98ea-431c-898d-18a629ac39cb",
   "metadata": {},
   "outputs": [
    {
     "data": {
      "application/vnd.jupyter.widget-view+json": {
       "model_id": "566e79c3dc85452b9e28480fbc7cdba9",
       "version_major": 2,
       "version_minor": 0
      },
      "text/plain": [
       "  0%|          | 0/19 [00:00<?, ?it/s]"
      ]
     },
     "metadata": {},
     "output_type": "display_data"
    }
   ],
   "source": [
    "# Generate CSVs for 2005 - 2023\n",
    "# Previous years are in old format that doesn't read well\n",
    "officer_dfs = []\n",
    "employee_dfs = []\n",
    "for i, R in enumerate(tqdm(readers[5:])):\n",
    "    try:\n",
    "        O = pd.DataFrame(create_officers_list(R))\n",
    "        E = pd.DataFrame(create_employees_list(R))\n",
    "        officer_dfs.append(O)\n",
    "        employee_dfs.append(E)\n",
    "        O.to_csv(f\"documents/UAW LM2s/{2005+i}_officers.csv\")\n",
    "        E.to_csv(f\"documents/UAW LM2s/{2005+i}_staff.csv\")\n",
    "    except:\n",
    "        print(2005+i)"
   ]
  },
  {
   "cell_type": "code",
   "execution_count": 20,
   "id": "9983427e-4649-4462-acda-abe83417e2bc",
   "metadata": {},
   "outputs": [],
   "source": [
    "# Quality control: Make sure columns are as expected\n",
    "expected_columns = ['Last Name', 'First Name', 'Title', 'Salary', 'Representational Activities', 'Political Activities and Lobbying', 'Contributions', 'General Overhead', 'Administration']\n",
    "for i in range(19):\n",
    "    year = 2005+i\n",
    "    if list(officer_dfs[i].columns) != expected_columns:\n",
    "        print(year)\n",
    "    if list(employee_dfs[i].columns) != expected_columns:\n",
    "        print(year)"
   ]
  },
  {
   "cell_type": "markdown",
   "id": "6d4e0811-61dc-4e9e-bcb4-5867b2d8ef31",
   "metadata": {},
   "source": [
    "# Teamsters"
   ]
  },
  {
   "cell_type": "code",
   "execution_count": 21,
   "id": "b130ee31-67b9-42aa-acdc-8421a336bfb2",
   "metadata": {},
   "outputs": [],
   "source": [
    "readers = [PdfReader(f\"documents/Teamsters LM2s/{year}.pdf\") for year in range(2000, 2024)]"
   ]
  },
  {
   "cell_type": "code",
   "execution_count": null,
   "id": "1b76894f-cac0-4139-b11b-5cd472451fa5",
   "metadata": {},
   "outputs": [
    {
     "data": {
      "application/vnd.jupyter.widget-view+json": {
       "model_id": "ebbfca6e29bd4412ab91384648c94f32",
       "version_major": 2,
       "version_minor": 0
      },
      "text/plain": [
       "  0%|          | 0/19 [00:00<?, ?it/s]"
      ]
     },
     "metadata": {},
     "output_type": "display_data"
    }
   ],
   "source": [
    "# Generate CSVs for 2005 - 2023\n",
    "# Previous years are in old format that doesn't read well\n",
    "officer_dfs = []\n",
    "employee_dfs = []\n",
    "for i, R in enumerate(tqdm(readers[5:])):\n",
    "    try:\n",
    "        O = pd.DataFrame(create_officers_list(R))\n",
    "        E = pd.DataFrame(create_employees_list(R))\n",
    "        officer_dfs.append(O)\n",
    "        employee_dfs.append(E)\n",
    "        O.to_csv(f\"documents/Teamsters LM2s/{2005+i}_officers.csv\")\n",
    "        E.to_csv(f\"documents/Teamsters LM2s/{2005+i}_staff.csv\")\n",
    "    except:\n",
    "        print(2005+i)"
   ]
  },
  {
   "cell_type": "code",
   "execution_count": 23,
   "id": "6d7dce0c-310f-4e43-aa63-d16cd7eb63f0",
   "metadata": {},
   "outputs": [
    {
     "ename": "IndexError",
     "evalue": "list index out of range",
     "output_type": "error",
     "traceback": [
      "\u001b[0;31m---------------------------------------------------------------------------\u001b[0m",
      "\u001b[0;31mIndexError\u001b[0m                                Traceback (most recent call last)",
      "Cell \u001b[0;32mIn[23], line 5\u001b[0m\n\u001b[1;32m      3\u001b[0m \u001b[38;5;28;01mfor\u001b[39;00m i \u001b[38;5;129;01min\u001b[39;00m \u001b[38;5;28mrange\u001b[39m(\u001b[38;5;241m19\u001b[39m):\n\u001b[1;32m      4\u001b[0m     year \u001b[38;5;241m=\u001b[39m \u001b[38;5;241m2005\u001b[39m\u001b[38;5;241m+\u001b[39mi\n\u001b[0;32m----> 5\u001b[0m     \u001b[38;5;28;01mif\u001b[39;00m \u001b[38;5;28mlist\u001b[39m(\u001b[43mofficer_dfs\u001b[49m\u001b[43m[\u001b[49m\u001b[43mi\u001b[49m\u001b[43m]\u001b[49m\u001b[38;5;241m.\u001b[39mcolumns) \u001b[38;5;241m!=\u001b[39m expected_columns:\n\u001b[1;32m      6\u001b[0m         \u001b[38;5;28mprint\u001b[39m(year)\n\u001b[1;32m      7\u001b[0m     \u001b[38;5;28;01mif\u001b[39;00m \u001b[38;5;28mlist\u001b[39m(employee_dfs[i]\u001b[38;5;241m.\u001b[39mcolumns) \u001b[38;5;241m!=\u001b[39m expected_columns:\n",
      "\u001b[0;31mIndexError\u001b[0m: list index out of range"
     ]
    }
   ],
   "source": [
    "# Quality control: Make sure columns are as expected\n",
    "expected_columns = ['Last Name', 'First Name', 'Title', 'Salary', 'Representational Activities', 'Political Activities and Lobbying', 'Contributions', 'General Overhead', 'Administration']\n",
    "for i in range(19):\n",
    "    year = 2005+i\n",
    "    if list(officer_dfs[i].columns) != expected_columns:\n",
    "        print(year)\n",
    "    if list(employee_dfs[i].columns) != expected_columns:\n",
    "        print(year)"
   ]
  },
  {
   "cell_type": "code",
   "execution_count": null,
   "id": "bba8cfda-e5e4-4c74-b62e-9e8cbb45457d",
   "metadata": {},
   "outputs": [],
   "source": []
  }
 ],
 "metadata": {
  "kernelspec": {
   "display_name": "Python 3 (ipykernel)",
   "language": "python",
   "name": "python3"
  },
  "language_info": {
   "codemirror_mode": {
    "name": "ipython",
    "version": 3
   },
   "file_extension": ".py",
   "mimetype": "text/x-python",
   "name": "python",
   "nbconvert_exporter": "python",
   "pygments_lexer": "ipython3",
   "version": "3.11.8"
  }
 },
 "nbformat": 4,
 "nbformat_minor": 5
}

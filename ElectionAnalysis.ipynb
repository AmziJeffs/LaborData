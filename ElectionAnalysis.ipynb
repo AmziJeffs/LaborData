{
 "cells": [
  {
   "cell_type": "code",
   "execution_count": 1,
   "id": "4fce9d9c-2057-444f-a40f-0bec85d229dc",
   "metadata": {},
   "outputs": [],
   "source": [
    "import numpy as np\n",
    "import pandas as pd\n",
    "import matplotlib.pyplot as plt"
   ]
  },
  {
   "cell_type": "code",
   "execution_count": 12,
   "id": "b368528e-1894-4d82-8f4f-bb4b6e4c4a1f",
   "metadata": {},
   "outputs": [],
   "source": [
    "elections1990_99 = pd.read_csv(\"Data/Elections/1990-99.csv\", parse_dates = [\"Date Filed\", \"Date Closed\"])\n",
    "elections2000_09 = pd.read_csv(\"Data/Elections/2000-09.csv\", parse_dates = [\"Date Filed\", \"Date Closed\"])\n",
    "elections2010_14 = pd.read_csv(\"Data/Elections/2010-14.csv\", parse_dates = [\"Date Filed\", \"Date Closed\"])\n",
    "elections2015_19 = pd.read_csv(\"Data/Elections/2015-19.csv\", parse_dates = [\"Date Filed\", \"Date Closed\"])\n",
    "elections2020_24 = pd.read_csv(\"Data/Elections/2020-24.csv\", parse_dates = [\"Date Filed\", \"Date Closed\"])"
   ]
  },
  {
   "cell_type": "code",
   "execution_count": 13,
   "id": "1a37b114-c571-421b-acc3-b05807cd6f64",
   "metadata": {},
   "outputs": [],
   "source": [
    "elections = pd.concat([elections1990_99, elections2000_09, elections2010_14, elections2015_19, elections2020_24], \n",
    "                      ignore_index = True)"
   ]
  },
  {
   "cell_type": "code",
   "execution_count": 14,
   "id": "3453a8a5-1b4f-4ebd-8eb0-37dc495aa0ff",
   "metadata": {},
   "outputs": [
    {
     "name": "stdout",
     "output_type": "stream",
     "text": [
      "<class 'pandas.core.frame.DataFrame'>\n",
      "RangeIndex: 30908 entries, 0 to 30907\n",
      "Data columns (total 31 columns):\n",
      " #   Column                        Non-Null Count  Dtype         \n",
      "---  ------                        --------------  -----         \n",
      " 0   Region                        30908 non-null  object        \n",
      " 1   Case Number                   30908 non-null  object        \n",
      " 2   Case Name                     30908 non-null  object        \n",
      " 3   Status                        30908 non-null  object        \n",
      " 4   Date Filed                    30908 non-null  datetime64[ns]\n",
      " 5   Date Closed                   30499 non-null  datetime64[ns]\n",
      " 6   Reason Closed                 30498 non-null  object        \n",
      " 7   City                          30907 non-null  object        \n",
      " 8   States & Territories          30908 non-null  object        \n",
      " 9   Unit ID                       30908 non-null  object        \n",
      " 10  Ballot Type                   30908 non-null  object        \n",
      " 11  Tally Type                    30907 non-null  object        \n",
      " 12  Tally Date                    30908 non-null  object        \n",
      " 13  No of Eligible Voters         30850 non-null  float64       \n",
      " 14  Void Ballots                  5150 non-null   float64       \n",
      " 15  Labor Union1                  30829 non-null  object        \n",
      " 16  Votes for Labor Union1        29674 non-null  float64       \n",
      " 17  Labor Union2                  1699 non-null   object        \n",
      " 18  Votes for Labor Union2        911 non-null    float64       \n",
      " 19  Labor Union3                  121 non-null    object        \n",
      " 20  Votes for Labor Union3        73 non-null     float64       \n",
      " 21  Votes Against                 24893 non-null  float64       \n",
      " 22  Total Ballots Counted         30116 non-null  float64       \n",
      " 23  Runoff Required               9217 non-null   object        \n",
      " 24  Challenged Ballots            11754 non-null  float64       \n",
      " 25  Challenges are Determinative  10432 non-null  object        \n",
      " 26  Union to Certify              20301 non-null  object        \n",
      " 27  Voting Unit (Unit A)          29849 non-null  object        \n",
      " 28  Voting Unit (Unit B)          932 non-null    object        \n",
      " 29  Voting Unit (Unit C)          746 non-null    object        \n",
      " 30  Voting Unit (Unit D)          610 non-null    object        \n",
      "dtypes: datetime64[ns](2), float64(8), object(21)\n",
      "memory usage: 7.3+ MB\n"
     ]
    }
   ],
   "source": [
    "elections.info()"
   ]
  },
  {
   "cell_type": "code",
   "execution_count": 18,
   "id": "d2b07346-1a9a-4b97-9e16-21cb19cfc49e",
   "metadata": {},
   "outputs": [
    {
     "data": {
      "text/html": [
       "<div>\n",
       "<style scoped>\n",
       "    .dataframe tbody tr th:only-of-type {\n",
       "        vertical-align: middle;\n",
       "    }\n",
       "\n",
       "    .dataframe tbody tr th {\n",
       "        vertical-align: top;\n",
       "    }\n",
       "\n",
       "    .dataframe thead th {\n",
       "        text-align: right;\n",
       "    }\n",
       "</style>\n",
       "<table border=\"1\" class=\"dataframe\">\n",
       "  <thead>\n",
       "    <tr style=\"text-align: right;\">\n",
       "      <th></th>\n",
       "      <th>Region</th>\n",
       "      <th>Case Number</th>\n",
       "      <th>Case Name</th>\n",
       "      <th>Status</th>\n",
       "      <th>Date Filed</th>\n",
       "      <th>Date Closed</th>\n",
       "      <th>Reason Closed</th>\n",
       "      <th>City</th>\n",
       "      <th>States &amp; Territories</th>\n",
       "      <th>Unit ID</th>\n",
       "      <th>...</th>\n",
       "      <th>Votes Against</th>\n",
       "      <th>Total Ballots Counted</th>\n",
       "      <th>Runoff Required</th>\n",
       "      <th>Challenged Ballots</th>\n",
       "      <th>Challenges are Determinative</th>\n",
       "      <th>Union to Certify</th>\n",
       "      <th>Voting Unit (Unit A)</th>\n",
       "      <th>Voting Unit (Unit B)</th>\n",
       "      <th>Voting Unit (Unit C)</th>\n",
       "      <th>Voting Unit (Unit D)</th>\n",
       "    </tr>\n",
       "  </thead>\n",
       "  <tbody>\n",
       "    <tr>\n",
       "      <th>25547</th>\n",
       "      <td>Region 13, Chicago, Illinois</td>\n",
       "      <td>13-RC-320303</td>\n",
       "      <td>Starbucks Corporation</td>\n",
       "      <td>Closed</td>\n",
       "      <td>2023-06-20</td>\n",
       "      <td>2023-08-15</td>\n",
       "      <td>Certific. of Representative</td>\n",
       "      <td>NaN</td>\n",
       "      <td>IL</td>\n",
       "      <td>A</td>\n",
       "      <td>...</td>\n",
       "      <td>3.0</td>\n",
       "      <td>16.0</td>\n",
       "      <td>NaN</td>\n",
       "      <td>NaN</td>\n",
       "      <td>NaN</td>\n",
       "      <td>Chicago and Midwest Regional Joint Board Worke...</td>\n",
       "      <td>Included: All full-time and regular part-time ...</td>\n",
       "      <td>NaN</td>\n",
       "      <td>NaN</td>\n",
       "      <td>NaN</td>\n",
       "    </tr>\n",
       "  </tbody>\n",
       "</table>\n",
       "<p>1 rows × 31 columns</p>\n",
       "</div>"
      ],
      "text/plain": [
       "                             Region   Case Number              Case Name  \\\n",
       "25547  Region 13, Chicago, Illinois  13-RC-320303  Starbucks Corporation   \n",
       "\n",
       "       Status Date Filed Date Closed                Reason Closed City  \\\n",
       "25547  Closed 2023-06-20  2023-08-15  Certific. of Representative  NaN   \n",
       "\n",
       "      States & Territories Unit ID  ... Votes Against Total Ballots Counted  \\\n",
       "25547                   IL       A  ...           3.0                  16.0   \n",
       "\n",
       "      Runoff Required  Challenged Ballots  Challenges are Determinative  \\\n",
       "25547             NaN                 NaN                           NaN   \n",
       "\n",
       "                                        Union to Certify  \\\n",
       "25547  Chicago and Midwest Regional Joint Board Worke...   \n",
       "\n",
       "                                    Voting Unit (Unit A) Voting Unit (Unit B)  \\\n",
       "25547  Included: All full-time and regular part-time ...                  NaN   \n",
       "\n",
       "       Voting Unit (Unit C) Voting Unit (Unit D)  \n",
       "25547                   NaN                  NaN  \n",
       "\n",
       "[1 rows x 31 columns]"
      ]
     },
     "execution_count": 18,
     "metadata": {},
     "output_type": "execute_result"
    }
   ],
   "source": [
    "# Should be Chicago\n",
    "elections[elections[\"City\"].isna()]"
   ]
  },
  {
   "cell_type": "code",
   "execution_count": null,
   "id": "2bffbf8d-d590-4f7e-9930-377ea09eaeab",
   "metadata": {},
   "outputs": [],
   "source": []
  }
 ],
 "metadata": {
  "kernelspec": {
   "display_name": "Python 3 (ipykernel)",
   "language": "python",
   "name": "python3"
  },
  "language_info": {
   "codemirror_mode": {
    "name": "ipython",
    "version": 3
   },
   "file_extension": ".py",
   "mimetype": "text/x-python",
   "name": "python",
   "nbconvert_exporter": "python",
   "pygments_lexer": "ipython3",
   "version": "3.11.8"
  }
 },
 "nbformat": 4,
 "nbformat_minor": 5
}
